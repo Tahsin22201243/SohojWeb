{
 "cells": [
  {
   "cell_type": "code",
   "execution_count": null,
   "id": "821dce9e",
   "metadata": {},
   "outputs": [
    {
     "name": "stdout",
     "output_type": "stream",
     "text": [
      "✅ Filled login credentials\n",
      "✅ Clicked Login button\n"
     ]
    }
   ],
   "source": [
    "from selenium import webdriver\n",
    "from selenium.webdriver.common.by import By\n",
    "from selenium.webdriver.support.ui import WebDriverWait\n",
    "from selenium.webdriver.support import expected_conditions as EC\n",
    "import time\n",
    "\n",
    "# ✅ Setup\n",
    "driver = webdriver.Chrome()\n",
    "driver.maximize_window()\n",
    "driver.get(\"http://127.0.0.1:8000/login/\")  # change if needed\n",
    "\n",
    "wait = WebDriverWait(driver, 15)\n",
    "\n",
    "# ✅ Fill in login details\n",
    "username_field = wait.until(EC.visibility_of_element_located((By.ID, \"username\")))\n",
    "password_field = driver.find_element(By.ID, \"password\")\n",
    "\n",
    "username_field.send_keys(\"investor_user1234\")   # use your test username\n",
    "password_field.send_keys(\"TestPassword123\")    # use your test password\n",
    "print(\"✅ Filled login credentials\")\n",
    "time.sleep(2)\n",
    "\n",
    "# ✅ Click the Login button\n",
    "login_button = wait.until(EC.element_to_be_clickable((By.XPATH, \"//button[contains(text(), 'Login')]\")))\n",
    "login_button.click()\n",
    "print(\"✅ Clicked Login button\")\n",
    "\n",
    "# ✅ Pause briefly then close browser\n",
    "time.sleep(2)\n",
    "\n"
   ]
  }
 ],
 "metadata": {
  "kernelspec": {
   "display_name": "Python 3",
   "language": "python",
   "name": "python3"
  },
  "language_info": {
   "codemirror_mode": {
    "name": "ipython",
    "version": 3
   },
   "file_extension": ".py",
   "mimetype": "text/x-python",
   "name": "python",
   "nbconvert_exporter": "python",
   "pygments_lexer": "ipython3",
   "version": "3.13.2"
  }
 },
 "nbformat": 4,
 "nbformat_minor": 5
}
