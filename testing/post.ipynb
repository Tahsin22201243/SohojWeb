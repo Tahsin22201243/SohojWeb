{
 "cells": [
  {
   "cell_type": "code",
   "execution_count": 3,
   "id": "2a7de33f",
   "metadata": {},
   "outputs": [
    {
     "name": "stdout",
     "output_type": "stream",
     "text": [
      "✅ Post Campaign page loaded\n"
     ]
    },
    {
     "ename": "InvalidArgumentException",
     "evalue": "Message: invalid argument: File not found : c:\\Users\\Asus\\Downloads\\SohojWeb(Sohoj_Biniyog)\\testing\\image.jpg\n  (Session info: chrome=141.0.7390.108)\nStacktrace:\n\tGetHandleVerifier [0x0x7ff73473e9e5+80021]\n\tGetHandleVerifier [0x0x7ff73473ea40+80112]\n\t(No symbol) [0x0x7ff7344c060f]\n\t(No symbol) [0x0x7ff7345102a7]\n\t(No symbol) [0x0x7ff73454122a]\n\t(No symbol) [0x0x7ff73450b056]\n\t(No symbol) [0x0x7ff734541440]\n\t(No symbol) [0x0x7ff73456968a]\n\t(No symbol) [0x0x7ff734541003]\n\t(No symbol) [0x0x7ff7345095d1]\n\t(No symbol) [0x0x7ff73450a3f3]\n\tGetHandleVerifier [0x0x7ff7349fdd8d+2960445]\n\tGetHandleVerifier [0x0x7ff7349f804a+2936570]\n\tGetHandleVerifier [0x0x7ff734a18a87+3070263]\n\tGetHandleVerifier [0x0x7ff7347584ce+185214]\n\tGetHandleVerifier [0x0x7ff73475ff1f+216527]\n\tGetHandleVerifier [0x0x7ff734747c24+117460]\n\tGetHandleVerifier [0x0x7ff734747ddf+117903]\n\tGetHandleVerifier [0x0x7ff73472dcb8+11112]\n\tBaseThreadInitThunk [0x0x7ffc9c50e8d7+23]\n\tRtlUserThreadStart [0x0x7ffc9d508d9c+44]\n",
     "output_type": "error",
     "traceback": [
      "\u001b[31m---------------------------------------------------------------------------\u001b[39m",
      "\u001b[31mInvalidArgumentException\u001b[39m                  Traceback (most recent call last)",
      "\u001b[36mCell\u001b[39m\u001b[36m \u001b[39m\u001b[32mIn[3]\u001b[39m\u001b[32m, line 49\u001b[39m\n\u001b[32m     47\u001b[39m cover_input = driver.find_element(By.NAME, \u001b[33m\"\u001b[39m\u001b[33mcover_image\u001b[39m\u001b[33m\"\u001b[39m)\n\u001b[32m     48\u001b[39m file_path = os.path.abspath(\u001b[33m\"\u001b[39m\u001b[33mimage.jpg\u001b[39m\u001b[33m\"\u001b[39m)  \u001b[38;5;66;03m# Replace with an actual test image path\u001b[39;00m\n\u001b[32m---> \u001b[39m\u001b[32m49\u001b[39m \u001b[43mcover_input\u001b[49m\u001b[43m.\u001b[49m\u001b[43msend_keys\u001b[49m\u001b[43m(\u001b[49m\u001b[43mfile_path\u001b[49m\u001b[43m)\u001b[49m\n\u001b[32m     50\u001b[39m time.sleep(\u001b[32m1\u001b[39m)  \u001b[38;5;66;03m# wait for preview to load\u001b[39;00m\n\u001b[32m     52\u001b[39m \u001b[38;5;66;03m# --- Step 4: Submit the form ---\u001b[39;00m\n",
      "\u001b[36mFile \u001b[39m\u001b[32mc:\\Users\\Asus\\AppData\\Local\\Programs\\Python\\Python313\\Lib\\site-packages\\selenium\\webdriver\\remote\\webelement.py:303\u001b[39m, in \u001b[36mWebElement.send_keys\u001b[39m\u001b[34m(self, *value)\u001b[39m\n\u001b[32m    300\u001b[39m             remote_files.append(\u001b[38;5;28mself\u001b[39m._upload(file))\n\u001b[32m    301\u001b[39m         value = \u001b[38;5;28mtuple\u001b[39m(\u001b[33m\"\u001b[39m\u001b[38;5;130;01m\\n\u001b[39;00m\u001b[33m\"\u001b[39m.join(remote_files))\n\u001b[32m--> \u001b[39m\u001b[32m303\u001b[39m \u001b[38;5;28;43mself\u001b[39;49m\u001b[43m.\u001b[49m\u001b[43m_execute\u001b[49m\u001b[43m(\u001b[49m\n\u001b[32m    304\u001b[39m \u001b[43m    \u001b[49m\u001b[43mCommand\u001b[49m\u001b[43m.\u001b[49m\u001b[43mSEND_KEYS_TO_ELEMENT\u001b[49m\u001b[43m,\u001b[49m\u001b[43m \u001b[49m\u001b[43m{\u001b[49m\u001b[33;43m\"\u001b[39;49m\u001b[33;43mtext\u001b[39;49m\u001b[33;43m\"\u001b[39;49m\u001b[43m:\u001b[49m\u001b[43m \u001b[49m\u001b[33;43m\"\u001b[39;49m\u001b[33;43m\"\u001b[39;49m\u001b[43m.\u001b[49m\u001b[43mjoin\u001b[49m\u001b[43m(\u001b[49m\u001b[43mkeys_to_typing\u001b[49m\u001b[43m(\u001b[49m\u001b[43mvalue\u001b[49m\u001b[43m)\u001b[49m\u001b[43m)\u001b[49m\u001b[43m,\u001b[49m\u001b[43m \u001b[49m\u001b[33;43m\"\u001b[39;49m\u001b[33;43mvalue\u001b[39;49m\u001b[33;43m\"\u001b[39;49m\u001b[43m:\u001b[49m\u001b[43m \u001b[49m\u001b[43mkeys_to_typing\u001b[49m\u001b[43m(\u001b[49m\u001b[43mvalue\u001b[49m\u001b[43m)\u001b[49m\u001b[43m}\u001b[49m\n\u001b[32m    305\u001b[39m \u001b[43m\u001b[49m\u001b[43m)\u001b[49m\n",
      "\u001b[36mFile \u001b[39m\u001b[32mc:\\Users\\Asus\\AppData\\Local\\Programs\\Python\\Python313\\Lib\\site-packages\\selenium\\webdriver\\remote\\webelement.py:572\u001b[39m, in \u001b[36mWebElement._execute\u001b[39m\u001b[34m(self, command, params)\u001b[39m\n\u001b[32m    570\u001b[39m     params = {}\n\u001b[32m    571\u001b[39m params[\u001b[33m\"\u001b[39m\u001b[33mid\u001b[39m\u001b[33m\"\u001b[39m] = \u001b[38;5;28mself\u001b[39m._id\n\u001b[32m--> \u001b[39m\u001b[32m572\u001b[39m \u001b[38;5;28;01mreturn\u001b[39;00m \u001b[38;5;28;43mself\u001b[39;49m\u001b[43m.\u001b[49m\u001b[43m_parent\u001b[49m\u001b[43m.\u001b[49m\u001b[43mexecute\u001b[49m\u001b[43m(\u001b[49m\u001b[43mcommand\u001b[49m\u001b[43m,\u001b[49m\u001b[43m \u001b[49m\u001b[43mparams\u001b[49m\u001b[43m)\u001b[49m\n",
      "\u001b[36mFile \u001b[39m\u001b[32mc:\\Users\\Asus\\AppData\\Local\\Programs\\Python\\Python313\\Lib\\site-packages\\selenium\\webdriver\\remote\\webdriver.py:458\u001b[39m, in \u001b[36mWebDriver.execute\u001b[39m\u001b[34m(self, driver_command, params)\u001b[39m\n\u001b[32m    455\u001b[39m response = cast(RemoteConnection, \u001b[38;5;28mself\u001b[39m.command_executor).execute(driver_command, params)\n\u001b[32m    457\u001b[39m \u001b[38;5;28;01mif\u001b[39;00m response:\n\u001b[32m--> \u001b[39m\u001b[32m458\u001b[39m     \u001b[38;5;28;43mself\u001b[39;49m\u001b[43m.\u001b[49m\u001b[43merror_handler\u001b[49m\u001b[43m.\u001b[49m\u001b[43mcheck_response\u001b[49m\u001b[43m(\u001b[49m\u001b[43mresponse\u001b[49m\u001b[43m)\u001b[49m\n\u001b[32m    459\u001b[39m     response[\u001b[33m\"\u001b[39m\u001b[33mvalue\u001b[39m\u001b[33m\"\u001b[39m] = \u001b[38;5;28mself\u001b[39m._unwrap_value(response.get(\u001b[33m\"\u001b[39m\u001b[33mvalue\u001b[39m\u001b[33m\"\u001b[39m, \u001b[38;5;28;01mNone\u001b[39;00m))\n\u001b[32m    460\u001b[39m     \u001b[38;5;28;01mreturn\u001b[39;00m response\n",
      "\u001b[36mFile \u001b[39m\u001b[32mc:\\Users\\Asus\\AppData\\Local\\Programs\\Python\\Python313\\Lib\\site-packages\\selenium\\webdriver\\remote\\errorhandler.py:232\u001b[39m, in \u001b[36mErrorHandler.check_response\u001b[39m\u001b[34m(self, response)\u001b[39m\n\u001b[32m    230\u001b[39m         alert_text = value[\u001b[33m\"\u001b[39m\u001b[33malert\u001b[39m\u001b[33m\"\u001b[39m].get(\u001b[33m\"\u001b[39m\u001b[33mtext\u001b[39m\u001b[33m\"\u001b[39m)\n\u001b[32m    231\u001b[39m     \u001b[38;5;28;01mraise\u001b[39;00m exception_class(message, screen, stacktrace, alert_text)  \u001b[38;5;66;03m# type: ignore[call-arg]  # mypy is not smart enough here\u001b[39;00m\n\u001b[32m--> \u001b[39m\u001b[32m232\u001b[39m \u001b[38;5;28;01mraise\u001b[39;00m exception_class(message, screen, stacktrace)\n",
      "\u001b[31mInvalidArgumentException\u001b[39m: Message: invalid argument: File not found : c:\\Users\\Asus\\Downloads\\SohojWeb(Sohoj_Biniyog)\\testing\\image.jpg\n  (Session info: chrome=141.0.7390.108)\nStacktrace:\n\tGetHandleVerifier [0x0x7ff73473e9e5+80021]\n\tGetHandleVerifier [0x0x7ff73473ea40+80112]\n\t(No symbol) [0x0x7ff7344c060f]\n\t(No symbol) [0x0x7ff7345102a7]\n\t(No symbol) [0x0x7ff73454122a]\n\t(No symbol) [0x0x7ff73450b056]\n\t(No symbol) [0x0x7ff734541440]\n\t(No symbol) [0x0x7ff73456968a]\n\t(No symbol) [0x0x7ff734541003]\n\t(No symbol) [0x0x7ff7345095d1]\n\t(No symbol) [0x0x7ff73450a3f3]\n\tGetHandleVerifier [0x0x7ff7349fdd8d+2960445]\n\tGetHandleVerifier [0x0x7ff7349f804a+2936570]\n\tGetHandleVerifier [0x0x7ff734a18a87+3070263]\n\tGetHandleVerifier [0x0x7ff7347584ce+185214]\n\tGetHandleVerifier [0x0x7ff73475ff1f+216527]\n\tGetHandleVerifier [0x0x7ff734747c24+117460]\n\tGetHandleVerifier [0x0x7ff734747ddf+117903]\n\tGetHandleVerifier [0x0x7ff73472dcb8+11112]\n\tBaseThreadInitThunk [0x0x7ffc9c50e8d7+23]\n\tRtlUserThreadStart [0x0x7ffc9d508d9c+44]\n"
     ]
    }
   ],
   "source": [
    "from selenium import webdriver\n",
    "from selenium.webdriver.common.by import By\n",
    "from selenium.webdriver.support.ui import WebDriverWait\n",
    "from selenium.webdriver.support import expected_conditions as EC\n",
    "import time\n",
    "import os\n",
    "\n",
    "# --- Setup ---\n",
    "driver = webdriver.Chrome()\n",
    "driver.maximize_window()\n",
    "wait = WebDriverWait(driver, 15)\n",
    "\n",
    "# --- Step 1: Login as Business Owner ---\n",
    "driver.get(\"http://127.0.0.1:8000/login/\")  # Adjust URL\n",
    "\n",
    "username = wait.until(EC.visibility_of_element_located((By.NAME, \"username\")))\n",
    "password = driver.find_element(By.NAME, \"password\")\n",
    "\n",
    "username.send_keys(\"business_user1234\")  # Business owner credentials\n",
    "password.send_keys(\"TestPassword123\")\n",
    "\n",
    "login_btn = driver.find_element(By.CSS_SELECTOR, \"button[type='submit']\")\n",
    "login_btn.click()\n",
    "\n",
    "# --- Step 2: Navigate to Post Campaign page ---\n",
    "driver.get(\"http://127.0.0.1:8000/post/\")  # Adjust URL if needed\n",
    "wait.until(EC.visibility_of_element_located((By.CSS_SELECTOR, \"h2.text-center\")))\n",
    "print(\"✅ Post Campaign page loaded\")\n",
    "time.sleep(1)\n",
    "\n",
    "# --- Step 3: Fill the form ---\n",
    "# Select approved business\n",
    "business_select = wait.until(EC.element_to_be_clickable((By.ID, \"business\")))\n",
    "business_select.click()\n",
    "business_option = business_select.find_element(By.CSS_SELECTOR, \"option\")  # selects first approved business\n",
    "business_option.click()\n",
    "\n",
    "# Fill text fields\n",
    "driver.find_element(By.NAME, \"title\").send_keys(\"My Test Campaign\")\n",
    "driver.find_element(By.NAME, \"description\").send_keys(\"This is a test campaign for Selenium automation.\")\n",
    "driver.find_element(By.NAME, \"target_amount\").send_keys(\"100000\")\n",
    "driver.find_element(By.NAME, \"min_investment\").send_keys(\"1\")\n",
    "driver.find_element(By.NAME, \"start_date\").send_keys(\"2-10-2025\")\n",
    "driver.find_element(By.NAME, \"end_date\").send_keys(\"2-12-2029\")\n",
    "\n",
    "# Upload cover image (optional)\n",
    "cover_input = driver.find_element(By.NAME, \"cover_image\")\n",
    "file_path = os.path.abspath(\"image.jpg\")  # Replace with an actual test image path\n",
    "cover_input.send_keys(file_path)\n",
    "time.sleep(1)  # wait for preview to load\n",
    "\n",
    "# --- Step 4: Submit the form ---\n",
    "submit_btn = driver.find_element(By.CSS_SELECTOR, \"button.btn-primary\")\n",
    "driver.execute_script(\"arguments[0].scrollIntoView(true);\", submit_btn)\n",
    "time.sleep(0.5)\n",
    "submit_btn.click()\n",
    "print(\"✅ Campaign form submitted\")\n",
    "\n",
    "# --- Step 5: Wait for confirmation or redirect ---\n",
    "time.sleep(3)  # adjust according to your app behavior\n",
    "print(\"✅ Campaign posted successfully (check manually for confirmation)\")\n",
    "\n",
    "driver.quit()\n"
   ]
  }
 ],
 "metadata": {
  "kernelspec": {
   "display_name": "Python 3",
   "language": "python",
   "name": "python3"
  },
  "language_info": {
   "codemirror_mode": {
    "name": "ipython",
    "version": 3
   },
   "file_extension": ".py",
   "mimetype": "text/x-python",
   "name": "python",
   "nbconvert_exporter": "python",
   "pygments_lexer": "ipython3",
   "version": "3.13.2"
  }
 },
 "nbformat": 4,
 "nbformat_minor": 5
}
