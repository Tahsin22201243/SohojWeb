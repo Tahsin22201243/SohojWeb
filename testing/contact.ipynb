{
 "cells": [
  {
   "cell_type": "code",
   "execution_count": 4,
   "id": "5036511c",
   "metadata": {},
   "outputs": [
    {
     "name": "stdout",
     "output_type": "stream",
     "text": [
      "✅ Opened Contact page successfully.\n",
      "✅ Filled out all form fields.\n",
      "✅ Form submitted successfully.\n",
      "✅ Finished scrolling down the Contact page.\n",
      "✅ Scrolled back to top.\n"
     ]
    }
   ],
   "source": [
    "from selenium import webdriver\n",
    "from selenium.webdriver.chrome.service import Service\n",
    "from selenium.webdriver.chrome.options import Options\n",
    "from selenium.webdriver.support.ui import WebDriverWait\n",
    "from selenium.webdriver.support import expected_conditions as EC\n",
    "from selenium.webdriver.common.by import By\n",
    "from webdriver_manager.chrome import ChromeDriverManager\n",
    "import time\n",
    "\n",
    "# --- SETUP ---\n",
    "chrome_options = Options()\n",
    "chrome_options.add_argument(\"--start-maximized\")\n",
    "# chrome_options.add_argument(\"--headless\")  # uncomment if you want to run without opening the browser\n",
    "\n",
    "driver = webdriver.Chrome(\n",
    "    service=Service(ChromeDriverManager().install()), options=chrome_options\n",
    ")\n",
    "wait = WebDriverWait(driver, 15)\n",
    "\n",
    "try:\n",
    "    # --- STEP 1: Open Contact Page ---\n",
    "    driver.get(\"http://127.0.0.1:8000/contact/\")\n",
    "    print(\"✅ Opened Contact page successfully.\")\n",
    "    time.sleep(1)\n",
    "\n",
    "    # --- STEP 3: Fill Out the Contact Form ---\n",
    "    # Wait for form fields to load\n",
    "    wait.until(EC.presence_of_element_located((By.TAG_NAME, \"form\")))\n",
    "\n",
    "    # Assuming Django renders inputs with IDs like id_name, id_email, etc.\n",
    "    driver.find_element(By.ID, \"id_name\").send_keys(\"Salman Nur Ramim\")\n",
    "    driver.find_element(By.ID, \"id_email\").send_keys(\"ramim@example.com\")\n",
    "    driver.find_element(By.ID, \"id_subject\").send_keys(\"Testing Contact Form\")\n",
    "    driver.find_element(By.ID, \"id_message\").send_keys(\"This is a Selenium automated test message.\")\n",
    "    print(\"✅ Filled out all form fields.\")\n",
    "\n",
    "    # --- STEP 4: Submit the Form ---\n",
    "    submit_button = driver.find_element(By.XPATH, \"//button[contains(text(),'Send Message')]\")\n",
    "    driver.execute_script(\"arguments[0].scrollIntoView(true);\", submit_button)\n",
    "    time.sleep(2)\n",
    "    submit_button.click()\n",
    "    print(\"✅ Form submitted successfully.\")\n",
    "\n",
    "    # Wait to observe success message\n",
    "    time.sleep(2)\n",
    "\n",
    "    # --- STEP 2: Scroll Down Slowly ---\n",
    "    scroll_pause_time = 1\n",
    "    scroll_height = driver.execute_script(\"return document.body.scrollHeight\")\n",
    "\n",
    "    for i in range(0, scroll_height, 300):\n",
    "        driver.execute_script(f\"window.scrollTo(0, {i});\")\n",
    "        time.sleep(scroll_pause_time)\n",
    "    print(\"✅ Finished scrolling down the Contact page.\")\n",
    "\n",
    "    # --- STEP 5: Scroll Back to Top ---\n",
    "    driver.execute_script(\"window.scrollTo(0, 0);\")\n",
    "    print(\"✅ Scrolled back to top.\")\n",
    "\n",
    "    time.sleep(2)\n",
    "\n",
    "finally:\n",
    "    driver.quit()\n"
   ]
  }
 ],
 "metadata": {
  "kernelspec": {
   "display_name": "Python 3",
   "language": "python",
   "name": "python3"
  },
  "language_info": {
   "codemirror_mode": {
    "name": "ipython",
    "version": 3
   },
   "file_extension": ".py",
   "mimetype": "text/x-python",
   "name": "python",
   "nbconvert_exporter": "python",
   "pygments_lexer": "ipython3",
   "version": "3.13.2"
  }
 },
 "nbformat": 4,
 "nbformat_minor": 5
}
