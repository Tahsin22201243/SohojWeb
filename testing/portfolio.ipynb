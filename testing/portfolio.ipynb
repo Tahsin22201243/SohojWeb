{
 "cells": [
  {
   "cell_type": "code",
   "execution_count": 2,
   "id": "3669b0ce",
   "metadata": {},
   "outputs": [
    {
     "name": "stdout",
     "output_type": "stream",
     "text": [
      "✅ Logged in successfully as Investor\n",
      "✅ Investment Opportunities page loaded\n"
     ]
    }
   ],
   "source": [
    "from selenium import webdriver\n",
    "from selenium.webdriver.common.by import By\n",
    "from selenium.webdriver.support.ui import WebDriverWait\n",
    "from selenium.webdriver.support import expected_conditions as EC\n",
    "import time\n",
    "\n",
    "# --- Setup ---\n",
    "driver = webdriver.Chrome()\n",
    "driver.maximize_window()\n",
    "wait = WebDriverWait(driver, 15)\n",
    "\n",
    "# --- Step 1: Go to Login Page ---\n",
    "driver.get(\"http://127.0.0.1:8000/login/\")  # Change base URL if needed\n",
    "\n",
    "# --- Step 2: Login as Investor ---\n",
    "username_field = wait.until(EC.visibility_of_element_located((By.ID, \"username\")))\n",
    "password_field = driver.find_element(By.ID, \"password\")\n",
    "\n",
    "username_field.send_keys(\"investor_user1234\")  # your investor username\n",
    "password_field.send_keys(\"TestPassword123\")   # your investor password\n",
    "\n",
    "login_button = driver.find_element(By.XPATH, \"//button[contains(text(),'Login')]\")\n",
    "login_button.click()\n",
    "print(\"✅ Logged in successfully as Investor\")\n",
    "time.sleep(2)\n",
    "\n",
    "# --- Step 4: Go to Investment Opportunities page ---\n",
    "driver.get(\"http://127.0.0.1:8000/portfolio/\")  # change URL to your actual invest page\n",
    "wait.until(EC.presence_of_element_located((By.XPATH, \"//h2[contains(text(),'Your Portfolio')]\")))\n",
    "print(\"✅ Investment Opportunities page loaded\")\n",
    "time.sleep(2)\n",
    "\n",
    "# --- Finish ---\n",
    "time.sleep(2)\n",
    "driver.quit()\n"
   ]
  }
 ],
 "metadata": {
  "kernelspec": {
   "display_name": "Python 3",
   "language": "python",
   "name": "python3"
  },
  "language_info": {
   "codemirror_mode": {
    "name": "ipython",
    "version": 3
   },
   "file_extension": ".py",
   "mimetype": "text/x-python",
   "name": "python",
   "nbconvert_exporter": "python",
   "pygments_lexer": "ipython3",
   "version": "3.13.2"
  }
 },
 "nbformat": 4,
 "nbformat_minor": 5
}
