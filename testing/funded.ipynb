{
 "cells": [
  {
   "cell_type": "code",
   "execution_count": 1,
   "id": "08d1b6b8",
   "metadata": {},
   "outputs": [
    {
     "name": "stdout",
     "output_type": "stream",
     "text": [
      "✅ Opened Funded Campaigns page successfully.\n"
     ]
    },
    {
     "ename": "NoSuchWindowException",
     "evalue": "Message: no such window: target window already closed\nfrom unknown error: web view not found\n  (Session info: chrome=141.0.7390.108)\nStacktrace:\n\tGetHandleVerifier [0x0xcbfe83+66515]\n\tGetHandleVerifier [0x0xcbfec4+66580]\n\t(No symbol) [0x0xaadc48]\n\t(No symbol) [0x0xa8c18d]\n\t(No symbol) [0x0xb21a4e]\n\t(No symbol) [0x0xb3c4d9]\n\t(No symbol) [0x0xb1afc6]\n\t(No symbol) [0x0xaec2ca]\n\t(No symbol) [0x0xaed154]\n\tGetHandleVerifier [0x0xf173b3+2521347]\n\tGetHandleVerifier [0x0xf12333+2500739]\n\tGetHandleVerifier [0x0xce7cd4+229924]\n\tGetHandleVerifier [0x0xcd8238+165768]\n\tGetHandleVerifier [0x0xcdeced+193085]\n\tGetHandleVerifier [0x0xcc8198+100072]\n\tGetHandleVerifier [0x0xcc8330+100480]\n\tGetHandleVerifier [0x0xcb25ea+11066]\n\tBaseThreadInitThunk [0x0x75cc5d49+25]\n\tRtlInitializeExceptionChain [0x0x77cfd6db+107]\n\tRtlGetAppContainerNamedObjectPath [0x0x77cfd661+561]\n",
     "output_type": "error",
     "traceback": [
      "\u001b[31m---------------------------------------------------------------------------\u001b[39m",
      "\u001b[31mNoSuchWindowException\u001b[39m                     Traceback (most recent call last)",
      "\u001b[36mCell\u001b[39m\u001b[36m \u001b[39m\u001b[32mIn[1]\u001b[39m\u001b[32m, line 27\u001b[39m\n\u001b[32m     24\u001b[39m time.sleep(\u001b[32m1\u001b[39m)\n\u001b[32m     26\u001b[39m \u001b[38;5;66;03m# --- STEP 2: Check if Campaigns Exist ---\u001b[39;00m\n\u001b[32m---> \u001b[39m\u001b[32m27\u001b[39m campaigns = \u001b[43mdriver\u001b[49m\u001b[43m.\u001b[49m\u001b[43mfind_elements\u001b[49m\u001b[43m(\u001b[49m\u001b[43mBy\u001b[49m\u001b[43m.\u001b[49m\u001b[43mCLASS_NAME\u001b[49m\u001b[43m,\u001b[49m\u001b[43m \u001b[49m\u001b[33;43m\"\u001b[39;49m\u001b[33;43mcard\u001b[39;49m\u001b[33;43m\"\u001b[39;49m\u001b[43m)\u001b[49m\n\u001b[32m     28\u001b[39m \u001b[38;5;28;01mif\u001b[39;00m campaigns:\n\u001b[32m     29\u001b[39m     \u001b[38;5;28mprint\u001b[39m(\u001b[33mf\u001b[39m\u001b[33m\"\u001b[39m\u001b[33m✅ Found \u001b[39m\u001b[38;5;132;01m{\u001b[39;00m\u001b[38;5;28mlen\u001b[39m(campaigns)\u001b[38;5;132;01m}\u001b[39;00m\u001b[33m campaign cards on the page.\u001b[39m\u001b[33m\"\u001b[39m)\n",
      "\u001b[36mFile \u001b[39m\u001b[32mc:\\Users\\Asus\\AppData\\Local\\Programs\\Python\\Python313\\Lib\\site-packages\\selenium\\webdriver\\remote\\webdriver.py:967\u001b[39m, in \u001b[36mWebDriver.find_elements\u001b[39m\u001b[34m(self, by, value)\u001b[39m\n\u001b[32m    963\u001b[39m     \u001b[38;5;28;01mreturn\u001b[39;00m \u001b[38;5;28mself\u001b[39m.execute_script(find_element_js, by.to_dict())\n\u001b[32m    965\u001b[39m \u001b[38;5;66;03m# Return empty list if driver returns null\u001b[39;00m\n\u001b[32m    966\u001b[39m \u001b[38;5;66;03m# See https://github.com/SeleniumHQ/selenium/issues/4555\u001b[39;00m\n\u001b[32m--> \u001b[39m\u001b[32m967\u001b[39m \u001b[38;5;28;01mreturn\u001b[39;00m \u001b[38;5;28;43mself\u001b[39;49m\u001b[43m.\u001b[49m\u001b[43mexecute\u001b[49m\u001b[43m(\u001b[49m\u001b[43mCommand\u001b[49m\u001b[43m.\u001b[49m\u001b[43mFIND_ELEMENTS\u001b[49m\u001b[43m,\u001b[49m\u001b[43m \u001b[49m\u001b[43m{\u001b[49m\u001b[33;43m\"\u001b[39;49m\u001b[33;43musing\u001b[39;49m\u001b[33;43m\"\u001b[39;49m\u001b[43m:\u001b[49m\u001b[43m \u001b[49m\u001b[43mby\u001b[49m\u001b[43m,\u001b[49m\u001b[43m \u001b[49m\u001b[33;43m\"\u001b[39;49m\u001b[33;43mvalue\u001b[39;49m\u001b[33;43m\"\u001b[39;49m\u001b[43m:\u001b[49m\u001b[43m \u001b[49m\u001b[43mvalue\u001b[49m\u001b[43m}\u001b[49m\u001b[43m)\u001b[49m[\u001b[33m\"\u001b[39m\u001b[33mvalue\u001b[39m\u001b[33m\"\u001b[39m] \u001b[38;5;129;01mor\u001b[39;00m []\n",
      "\u001b[36mFile \u001b[39m\u001b[32mc:\\Users\\Asus\\AppData\\Local\\Programs\\Python\\Python313\\Lib\\site-packages\\selenium\\webdriver\\remote\\webdriver.py:458\u001b[39m, in \u001b[36mWebDriver.execute\u001b[39m\u001b[34m(self, driver_command, params)\u001b[39m\n\u001b[32m    455\u001b[39m response = cast(RemoteConnection, \u001b[38;5;28mself\u001b[39m.command_executor).execute(driver_command, params)\n\u001b[32m    457\u001b[39m \u001b[38;5;28;01mif\u001b[39;00m response:\n\u001b[32m--> \u001b[39m\u001b[32m458\u001b[39m     \u001b[38;5;28;43mself\u001b[39;49m\u001b[43m.\u001b[49m\u001b[43merror_handler\u001b[49m\u001b[43m.\u001b[49m\u001b[43mcheck_response\u001b[49m\u001b[43m(\u001b[49m\u001b[43mresponse\u001b[49m\u001b[43m)\u001b[49m\n\u001b[32m    459\u001b[39m     response[\u001b[33m\"\u001b[39m\u001b[33mvalue\u001b[39m\u001b[33m\"\u001b[39m] = \u001b[38;5;28mself\u001b[39m._unwrap_value(response.get(\u001b[33m\"\u001b[39m\u001b[33mvalue\u001b[39m\u001b[33m\"\u001b[39m, \u001b[38;5;28;01mNone\u001b[39;00m))\n\u001b[32m    460\u001b[39m     \u001b[38;5;28;01mreturn\u001b[39;00m response\n",
      "\u001b[36mFile \u001b[39m\u001b[32mc:\\Users\\Asus\\AppData\\Local\\Programs\\Python\\Python313\\Lib\\site-packages\\selenium\\webdriver\\remote\\errorhandler.py:232\u001b[39m, in \u001b[36mErrorHandler.check_response\u001b[39m\u001b[34m(self, response)\u001b[39m\n\u001b[32m    230\u001b[39m         alert_text = value[\u001b[33m\"\u001b[39m\u001b[33malert\u001b[39m\u001b[33m\"\u001b[39m].get(\u001b[33m\"\u001b[39m\u001b[33mtext\u001b[39m\u001b[33m\"\u001b[39m)\n\u001b[32m    231\u001b[39m     \u001b[38;5;28;01mraise\u001b[39;00m exception_class(message, screen, stacktrace, alert_text)  \u001b[38;5;66;03m# type: ignore[call-arg]  # mypy is not smart enough here\u001b[39;00m\n\u001b[32m--> \u001b[39m\u001b[32m232\u001b[39m \u001b[38;5;28;01mraise\u001b[39;00m exception_class(message, screen, stacktrace)\n",
      "\u001b[31mNoSuchWindowException\u001b[39m: Message: no such window: target window already closed\nfrom unknown error: web view not found\n  (Session info: chrome=141.0.7390.108)\nStacktrace:\n\tGetHandleVerifier [0x0xcbfe83+66515]\n\tGetHandleVerifier [0x0xcbfec4+66580]\n\t(No symbol) [0x0xaadc48]\n\t(No symbol) [0x0xa8c18d]\n\t(No symbol) [0x0xb21a4e]\n\t(No symbol) [0x0xb3c4d9]\n\t(No symbol) [0x0xb1afc6]\n\t(No symbol) [0x0xaec2ca]\n\t(No symbol) [0x0xaed154]\n\tGetHandleVerifier [0x0xf173b3+2521347]\n\tGetHandleVerifier [0x0xf12333+2500739]\n\tGetHandleVerifier [0x0xce7cd4+229924]\n\tGetHandleVerifier [0x0xcd8238+165768]\n\tGetHandleVerifier [0x0xcdeced+193085]\n\tGetHandleVerifier [0x0xcc8198+100072]\n\tGetHandleVerifier [0x0xcc8330+100480]\n\tGetHandleVerifier [0x0xcb25ea+11066]\n\tBaseThreadInitThunk [0x0x75cc5d49+25]\n\tRtlInitializeExceptionChain [0x0x77cfd6db+107]\n\tRtlGetAppContainerNamedObjectPath [0x0x77cfd661+561]\n"
     ]
    }
   ],
   "source": [
    "from selenium import webdriver\n",
    "from selenium.webdriver.chrome.service import Service\n",
    "from selenium.webdriver.chrome.options import Options\n",
    "from selenium.webdriver.support.ui import WebDriverWait\n",
    "from selenium.webdriver.support import expected_conditions as EC\n",
    "from selenium.webdriver.common.by import By\n",
    "from webdriver_manager.chrome import ChromeDriverManager\n",
    "import time\n",
    "\n",
    "# --- SETUP ---\n",
    "chrome_options = Options()\n",
    "chrome_options.add_argument(\"--start-maximized\")\n",
    "# chrome_options.add_argument(\"--headless\")  # Uncomment if you want to run without browser window\n",
    "\n",
    "driver = webdriver.Chrome(\n",
    "    service=Service(ChromeDriverManager().install()), options=chrome_options\n",
    ")\n",
    "wait = WebDriverWait(driver, 15)\n",
    "\n",
    "try:\n",
    "    # --- STEP 1: Open Funded Campaigns Page ---\n",
    "    driver.get(\"http://127.0.0.1:8000/funded/\")\n",
    "    print(\"✅ Opened Funded Campaigns page successfully.\")\n",
    "    time.sleep(1)\n",
    "\n",
    "    # --- STEP 2: Check if Campaigns Exist ---\n",
    "    campaigns = driver.find_elements(By.CLASS_NAME, \"card\")\n",
    "    if campaigns:\n",
    "        print(f\"✅ Found {len(campaigns)} campaign cards on the page.\")\n",
    "\n",
    "        # --- STEP 3: Scroll Down Slowly ---\n",
    "        scroll_pause_time = 1\n",
    "        scroll_height = driver.execute_script(\"return document.body.scrollHeight\")\n",
    "        for i in range(0, scroll_height, 300):\n",
    "            driver.execute_script(f\"window.scrollTo(0, {i});\")\n",
    "            time.sleep(scroll_pause_time)\n",
    "        print(\"✅ Finished scrolling down the Funded Campaigns page.\")\n",
    "\n",
    "        # --- STEP 4: Click \"View Campaign\" on the first campaign ---\n",
    "        first_campaign = campaigns[0]\n",
    "        view_button = first_campaign.find_element(By.XPATH, \".//a[contains(text(),'View Campaign')]\")\n",
    "        driver.execute_script(\"arguments[0].scrollIntoView(true);\", view_button)\n",
    "        time.sleep(1)\n",
    "        view_button.click()\n",
    "        print(\"✅ Clicked 'View Campaign' button of the first campaign.\")\n",
    "\n",
    "        # --- STEP 5: Wait for Campaign Detail Page to Load ---\n",
    "        wait.until(EC.presence_of_element_located((By.TAG_NAME, \"h1\")))  # Assuming title is h1\n",
    "        print(f\"✅ Navigated to campaign detail page: {driver.current_url}\")\n",
    "\n",
    "        time.sleep(1)\n",
    "\n",
    "        # --- STEP 6: Go back to Funded Campaigns page ---\n",
    "        driver.back()\n",
    "        print(\"✅ Returned to Funded Campaigns page.\")\n",
    "        time.sleep(1)\n",
    "\n",
    "    else:\n",
    "        alert = driver.find_element(By.CLASS_NAME, \"alert-info\")\n",
    "        print(\"ℹ️ No funded campaigns yet — found info alert.\")\n",
    "\n",
    "    # --- STEP 7: Scroll Back Up ---\n",
    "    driver.execute_script(\"window.scrollTo(0, 0);\")\n",
    "    print(\"✅ Scrolled back to top.\")\n",
    "\n",
    "    time.sleep(1)\n",
    "\n",
    "finally:\n",
    "    driver.quit()\n"
   ]
  }
 ],
 "metadata": {
  "kernelspec": {
   "display_name": "Python 3",
   "language": "python",
   "name": "python3"
  },
  "language_info": {
   "codemirror_mode": {
    "name": "ipython",
    "version": 3
   },
   "file_extension": ".py",
   "mimetype": "text/x-python",
   "name": "python",
   "nbconvert_exporter": "python",
   "pygments_lexer": "ipython3",
   "version": "3.13.2"
  }
 },
 "nbformat": 4,
 "nbformat_minor": 5
}
