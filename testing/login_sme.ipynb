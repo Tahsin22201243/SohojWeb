{
 "cells": [
  {
   "cell_type": "code",
   "execution_count": 1,
   "id": "b8dbdde2",
   "metadata": {},
   "outputs": [
    {
     "name": "stdout",
     "output_type": "stream",
     "text": [
      "✅ Login page loaded\n",
      "✅ Entered login credentials\n",
      "✅ Clicked Login button\n",
      "🚀 Test completed and browser closed\n"
     ]
    },
    {
     "ename": "TimeoutException",
     "evalue": "Message: \n",
     "output_type": "error",
     "traceback": [
      "\u001b[31m---------------------------------------------------------------------------\u001b[39m",
      "\u001b[31mTimeoutException\u001b[39m                          Traceback (most recent call last)",
      "\u001b[36mCell\u001b[39m\u001b[36m \u001b[39m\u001b[32mIn[1]\u001b[39m\u001b[32m, line 32\u001b[39m\n\u001b[32m     29\u001b[39m \u001b[38;5;28mprint\u001b[39m(\u001b[33m\"\u001b[39m\u001b[33m✅ Clicked Login button\u001b[39m\u001b[33m\"\u001b[39m)\n\u001b[32m     31\u001b[39m \u001b[38;5;66;03m# --- STEP 4: Wait for Profile Page Redirect ---\u001b[39;00m\n\u001b[32m---> \u001b[39m\u001b[32m32\u001b[39m \u001b[43mwait\u001b[49m\u001b[43m.\u001b[49m\u001b[43muntil\u001b[49m\u001b[43m(\u001b[49m\u001b[43mEC\u001b[49m\u001b[43m.\u001b[49m\u001b[43murl_contains\u001b[49m\u001b[43m(\u001b[49m\u001b[33;43m\"\u001b[39;49m\u001b[33;43m/profile/\u001b[39;49m\u001b[33;43m\"\u001b[39;49m\u001b[43m)\u001b[49m\u001b[43m)\u001b[49m\n\u001b[32m     33\u001b[39m \u001b[38;5;28mprint\u001b[39m(\u001b[33mf\u001b[39m\u001b[33m\"\u001b[39m\u001b[33m✅ Logged in successfully! Current URL: \u001b[39m\u001b[38;5;132;01m{\u001b[39;00mdriver.current_url\u001b[38;5;132;01m}\u001b[39;00m\u001b[33m\"\u001b[39m)\n\u001b[32m     35\u001b[39m \u001b[38;5;66;03m# --- STEP 5: Optional Verification — Check Role as Business Owner ---\u001b[39;00m\n",
      "\u001b[36mFile \u001b[39m\u001b[32mc:\\Users\\Asus\\AppData\\Local\\Programs\\Python\\Python313\\Lib\\site-packages\\selenium\\webdriver\\support\\wait.py:138\u001b[39m, in \u001b[36mWebDriverWait.until\u001b[39m\u001b[34m(self, method, message)\u001b[39m\n\u001b[32m    136\u001b[39m         \u001b[38;5;28;01mbreak\u001b[39;00m\n\u001b[32m    137\u001b[39m     time.sleep(\u001b[38;5;28mself\u001b[39m._poll)\n\u001b[32m--> \u001b[39m\u001b[32m138\u001b[39m \u001b[38;5;28;01mraise\u001b[39;00m TimeoutException(message, screen, stacktrace)\n",
      "\u001b[31mTimeoutException\u001b[39m: Message: \n"
     ]
    }
   ],
   "source": [
    "from selenium import webdriver\n",
    "from selenium.webdriver.common.by import By\n",
    "from selenium.webdriver.support.ui import WebDriverWait\n",
    "from selenium.webdriver.support import expected_conditions as EC\n",
    "import time\n",
    "\n",
    "# --- SETUP ---\n",
    "driver = webdriver.Chrome()\n",
    "driver.maximize_window()\n",
    "wait = WebDriverWait(driver, 15)\n",
    "\n",
    "try:\n",
    "    # --- STEP 1: Open Login Page ---\n",
    "    driver.get(\"http://127.0.0.1:8000/login/\")  # Login page URL\n",
    "    wait.until(EC.visibility_of_element_located((By.NAME, \"username\")))\n",
    "    print(\"✅ Login page loaded\")\n",
    "\n",
    "    # --- STEP 2: Fill in Login Credentials ---\n",
    "    username = driver.find_element(By.NAME, \"username\")\n",
    "    password = driver.find_element(By.NAME, \"password\")\n",
    "\n",
    "    username.send_keys(\"business_user1234\")          # From registration\n",
    "    password.send_keys(\"TestPassword123\")           # From registration\n",
    "    print(\"✅ Entered login credentials\")\n",
    "\n",
    "    # --- STEP 3: Click Login Button ---\n",
    "    login_btn = driver.find_element(By.XPATH, \"//button[contains(text(),'Login')]\")\n",
    "    login_btn.click()\n",
    "    print(\"✅ Clicked Login button\")\n",
    "\n",
    "    # --- STEP 4: Wait for Profile Page Redirect ---\n",
    "    wait.until(EC.url_contains(\"/profile/\"))\n",
    "    print(f\"✅ Logged in successfully! Current URL: {driver.current_url}\")\n",
    "\n",
    "    # --- STEP 5: Optional Verification — Check Role as Business Owner ---\n",
    "    role_element = wait.until(EC.visibility_of_element_located((By.XPATH, \"//div[contains(text(),'Business Owner')]\")))\n",
    "    if role_element:\n",
    "        print(\"✅ Verified: Logged in as Business Owner\")\n",
    "\n",
    "    # --- STEP 6: Scroll Profile Page ---\n",
    "    scroll_pause_time = 0.5\n",
    "    scroll_height = driver.execute_script(\"return document.body.scrollHeight\")\n",
    "    for i in range(0, scroll_height, 400):\n",
    "        driver.execute_script(f\"window.scrollTo(0, {i});\")\n",
    "        time.sleep(scroll_pause_time)\n",
    "    print(\"✅ Scrolled through profile page\")\n",
    "\n",
    "    # --- STEP 7: Scroll Back to Top ---\n",
    "    driver.execute_script(\"window.scrollTo(0, 0);\")\n",
    "    print(\"✅ Scrolled back to top\")\n",
    "\n",
    "    time.sleep(2)\n",
    "\n",
    "finally:\n",
    "    driver.quit()\n",
    "    print(\"🚀 Test completed and browser closed\")\n"
   ]
  }
 ],
 "metadata": {
  "kernelspec": {
   "display_name": "Python 3",
   "language": "python",
   "name": "python3"
  },
  "language_info": {
   "codemirror_mode": {
    "name": "ipython",
    "version": 3
   },
   "file_extension": ".py",
   "mimetype": "text/x-python",
   "name": "python",
   "nbconvert_exporter": "python",
   "pygments_lexer": "ipython3",
   "version": "3.13.2"
  }
 },
 "nbformat": 4,
 "nbformat_minor": 5
}
