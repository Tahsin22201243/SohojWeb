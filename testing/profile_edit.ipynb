{
 "cells": [
  {
   "cell_type": "code",
   "execution_count": 7,
   "id": "ac6d7b41",
   "metadata": {},
   "outputs": [
    {
     "name": "stdout",
     "output_type": "stream",
     "text": [
      "✅ Logged in and profile page loaded\n"
     ]
    },
    {
     "ename": "ElementClickInterceptedException",
     "evalue": "Message: element click intercepted: Element is not clickable at point (158, 660)\n  (Session info: chrome=141.0.7390.108); For documentation on this error, please visit: https://www.selenium.dev/documentation/webdriver/troubleshooting/errors#elementclickinterceptedexception\nStacktrace:\n\tGetHandleVerifier [0x0x7ff6c019e9e5+80021]\n\tGetHandleVerifier [0x0x7ff6c019ea40+80112]\n\t(No symbol) [0x0x7ff6bff2060f]\n\t(No symbol) [0x0x7ff6bff80a39]\n\t(No symbol) [0x0x7ff6bff7e3be]\n\t(No symbol) [0x0x7ff6bff7b2e1]\n\t(No symbol) [0x0x7ff6bff7a1a0]\n\t(No symbol) [0x0x7ff6bff6b7c8]\n\t(No symbol) [0x0x7ff6bffa122a]\n\t(No symbol) [0x0x7ff6bff6b056]\n\t(No symbol) [0x0x7ff6bffa1440]\n\t(No symbol) [0x0x7ff6bffc968a]\n\t(No symbol) [0x0x7ff6bffa1003]\n\t(No symbol) [0x0x7ff6bff695d1]\n\t(No symbol) [0x0x7ff6bff6a3f3]\n\tGetHandleVerifier [0x0x7ff6c045dd8d+2960445]\n\tGetHandleVerifier [0x0x7ff6c045804a+2936570]\n\tGetHandleVerifier [0x0x7ff6c0478a87+3070263]\n\tGetHandleVerifier [0x0x7ff6c01b84ce+185214]\n\tGetHandleVerifier [0x0x7ff6c01bff1f+216527]\n\tGetHandleVerifier [0x0x7ff6c01a7c24+117460]\n\tGetHandleVerifier [0x0x7ff6c01a7ddf+117903]\n\tGetHandleVerifier [0x0x7ff6c018dcb8+11112]\n\tBaseThreadInitThunk [0x0x7ffe55bde8d7+23]\n\tRtlUserThreadStart [0x0x7ffe57328d9c+44]\n",
     "output_type": "error",
     "traceback": [
      "\u001b[31m---------------------------------------------------------------------------\u001b[39m",
      "\u001b[31mElementClickInterceptedException\u001b[39m          Traceback (most recent call last)",
      "\u001b[36mCell\u001b[39m\u001b[36m \u001b[39m\u001b[32mIn[7]\u001b[39m\u001b[32m, line 31\u001b[39m\n\u001b[32m     29\u001b[39m \u001b[38;5;66;03m# --- Step 2: Click Edit Profile ---\u001b[39;00m\n\u001b[32m     30\u001b[39m edit_button = wait.until(EC.element_to_be_clickable((By.LINK_TEXT, \u001b[33m\"\u001b[39m\u001b[33mEdit Profile\u001b[39m\u001b[33m\"\u001b[39m)))\n\u001b[32m---> \u001b[39m\u001b[32m31\u001b[39m \u001b[43medit_button\u001b[49m\u001b[43m.\u001b[49m\u001b[43mclick\u001b[49m\u001b[43m(\u001b[49m\u001b[43m)\u001b[49m\n\u001b[32m     32\u001b[39m \u001b[38;5;28mprint\u001b[39m(\u001b[33m\"\u001b[39m\u001b[33m✅ Clicked Edit Profile button\u001b[39m\u001b[33m\"\u001b[39m)\n\u001b[32m     33\u001b[39m wait.until(EC.url_contains(\u001b[33m\"\u001b[39m\u001b[33m/profile/edit/\u001b[39m\u001b[33m\"\u001b[39m))\n",
      "\u001b[36mFile \u001b[39m\u001b[32mc:\\Users\\Asus\\AppData\\Local\\Programs\\Python\\Python313\\Lib\\site-packages\\selenium\\webdriver\\remote\\webelement.py:119\u001b[39m, in \u001b[36mWebElement.click\u001b[39m\u001b[34m(self)\u001b[39m\n\u001b[32m    111\u001b[39m \u001b[38;5;28;01mdef\u001b[39;00m\u001b[38;5;250m \u001b[39m\u001b[34mclick\u001b[39m(\u001b[38;5;28mself\u001b[39m) -> \u001b[38;5;28;01mNone\u001b[39;00m:\n\u001b[32m    112\u001b[39m \u001b[38;5;250m    \u001b[39m\u001b[33;03m\"\"\"Clicks the element.\u001b[39;00m\n\u001b[32m    113\u001b[39m \n\u001b[32m    114\u001b[39m \u001b[33;03m    Example:\u001b[39;00m\n\u001b[32m   (...)\u001b[39m\u001b[32m    117\u001b[39m \u001b[33;03m    >>> element.click()\u001b[39;00m\n\u001b[32m    118\u001b[39m \u001b[33;03m    \"\"\"\u001b[39;00m\n\u001b[32m--> \u001b[39m\u001b[32m119\u001b[39m     \u001b[38;5;28;43mself\u001b[39;49m\u001b[43m.\u001b[49m\u001b[43m_execute\u001b[49m\u001b[43m(\u001b[49m\u001b[43mCommand\u001b[49m\u001b[43m.\u001b[49m\u001b[43mCLICK_ELEMENT\u001b[49m\u001b[43m)\u001b[49m\n",
      "\u001b[36mFile \u001b[39m\u001b[32mc:\\Users\\Asus\\AppData\\Local\\Programs\\Python\\Python313\\Lib\\site-packages\\selenium\\webdriver\\remote\\webelement.py:572\u001b[39m, in \u001b[36mWebElement._execute\u001b[39m\u001b[34m(self, command, params)\u001b[39m\n\u001b[32m    570\u001b[39m     params = {}\n\u001b[32m    571\u001b[39m params[\u001b[33m\"\u001b[39m\u001b[33mid\u001b[39m\u001b[33m\"\u001b[39m] = \u001b[38;5;28mself\u001b[39m._id\n\u001b[32m--> \u001b[39m\u001b[32m572\u001b[39m \u001b[38;5;28;01mreturn\u001b[39;00m \u001b[38;5;28;43mself\u001b[39;49m\u001b[43m.\u001b[49m\u001b[43m_parent\u001b[49m\u001b[43m.\u001b[49m\u001b[43mexecute\u001b[49m\u001b[43m(\u001b[49m\u001b[43mcommand\u001b[49m\u001b[43m,\u001b[49m\u001b[43m \u001b[49m\u001b[43mparams\u001b[49m\u001b[43m)\u001b[49m\n",
      "\u001b[36mFile \u001b[39m\u001b[32mc:\\Users\\Asus\\AppData\\Local\\Programs\\Python\\Python313\\Lib\\site-packages\\selenium\\webdriver\\remote\\webdriver.py:458\u001b[39m, in \u001b[36mWebDriver.execute\u001b[39m\u001b[34m(self, driver_command, params)\u001b[39m\n\u001b[32m    455\u001b[39m response = cast(RemoteConnection, \u001b[38;5;28mself\u001b[39m.command_executor).execute(driver_command, params)\n\u001b[32m    457\u001b[39m \u001b[38;5;28;01mif\u001b[39;00m response:\n\u001b[32m--> \u001b[39m\u001b[32m458\u001b[39m     \u001b[38;5;28;43mself\u001b[39;49m\u001b[43m.\u001b[49m\u001b[43merror_handler\u001b[49m\u001b[43m.\u001b[49m\u001b[43mcheck_response\u001b[49m\u001b[43m(\u001b[49m\u001b[43mresponse\u001b[49m\u001b[43m)\u001b[49m\n\u001b[32m    459\u001b[39m     response[\u001b[33m\"\u001b[39m\u001b[33mvalue\u001b[39m\u001b[33m\"\u001b[39m] = \u001b[38;5;28mself\u001b[39m._unwrap_value(response.get(\u001b[33m\"\u001b[39m\u001b[33mvalue\u001b[39m\u001b[33m\"\u001b[39m, \u001b[38;5;28;01mNone\u001b[39;00m))\n\u001b[32m    460\u001b[39m     \u001b[38;5;28;01mreturn\u001b[39;00m response\n",
      "\u001b[36mFile \u001b[39m\u001b[32mc:\\Users\\Asus\\AppData\\Local\\Programs\\Python\\Python313\\Lib\\site-packages\\selenium\\webdriver\\remote\\errorhandler.py:232\u001b[39m, in \u001b[36mErrorHandler.check_response\u001b[39m\u001b[34m(self, response)\u001b[39m\n\u001b[32m    230\u001b[39m         alert_text = value[\u001b[33m\"\u001b[39m\u001b[33malert\u001b[39m\u001b[33m\"\u001b[39m].get(\u001b[33m\"\u001b[39m\u001b[33mtext\u001b[39m\u001b[33m\"\u001b[39m)\n\u001b[32m    231\u001b[39m     \u001b[38;5;28;01mraise\u001b[39;00m exception_class(message, screen, stacktrace, alert_text)  \u001b[38;5;66;03m# type: ignore[call-arg]  # mypy is not smart enough here\u001b[39;00m\n\u001b[32m--> \u001b[39m\u001b[32m232\u001b[39m \u001b[38;5;28;01mraise\u001b[39;00m exception_class(message, screen, stacktrace)\n",
      "\u001b[31mElementClickInterceptedException\u001b[39m: Message: element click intercepted: Element is not clickable at point (158, 660)\n  (Session info: chrome=141.0.7390.108); For documentation on this error, please visit: https://www.selenium.dev/documentation/webdriver/troubleshooting/errors#elementclickinterceptedexception\nStacktrace:\n\tGetHandleVerifier [0x0x7ff6c019e9e5+80021]\n\tGetHandleVerifier [0x0x7ff6c019ea40+80112]\n\t(No symbol) [0x0x7ff6bff2060f]\n\t(No symbol) [0x0x7ff6bff80a39]\n\t(No symbol) [0x0x7ff6bff7e3be]\n\t(No symbol) [0x0x7ff6bff7b2e1]\n\t(No symbol) [0x0x7ff6bff7a1a0]\n\t(No symbol) [0x0x7ff6bff6b7c8]\n\t(No symbol) [0x0x7ff6bffa122a]\n\t(No symbol) [0x0x7ff6bff6b056]\n\t(No symbol) [0x0x7ff6bffa1440]\n\t(No symbol) [0x0x7ff6bffc968a]\n\t(No symbol) [0x0x7ff6bffa1003]\n\t(No symbol) [0x0x7ff6bff695d1]\n\t(No symbol) [0x0x7ff6bff6a3f3]\n\tGetHandleVerifier [0x0x7ff6c045dd8d+2960445]\n\tGetHandleVerifier [0x0x7ff6c045804a+2936570]\n\tGetHandleVerifier [0x0x7ff6c0478a87+3070263]\n\tGetHandleVerifier [0x0x7ff6c01b84ce+185214]\n\tGetHandleVerifier [0x0x7ff6c01bff1f+216527]\n\tGetHandleVerifier [0x0x7ff6c01a7c24+117460]\n\tGetHandleVerifier [0x0x7ff6c01a7ddf+117903]\n\tGetHandleVerifier [0x0x7ff6c018dcb8+11112]\n\tBaseThreadInitThunk [0x0x7ffe55bde8d7+23]\n\tRtlUserThreadStart [0x0x7ffe57328d9c+44]\n"
     ]
    }
   ],
   "source": [
    "from selenium import webdriver\n",
    "from selenium.webdriver.common.by import By\n",
    "from selenium.webdriver.support.ui import WebDriverWait, Select\n",
    "from selenium.webdriver.support import expected_conditions as EC\n",
    "import time\n",
    "import os\n",
    "\n",
    "# --- Setup ---\n",
    "driver = webdriver.Chrome()\n",
    "driver.maximize_window()\n",
    "wait = WebDriverWait(driver, 15)\n",
    "\n",
    "# --- Step 1: Login ---\n",
    "driver.get(\"http://127.0.0.1:8000/login/\")\n",
    "\n",
    "username = wait.until(EC.visibility_of_element_located((By.NAME, \"username\")))\n",
    "password = driver.find_element(By.NAME, \"password\")\n",
    "\n",
    "username.send_keys(\"business_user123\")\n",
    "password.send_keys(\"TestPassword123\")\n",
    "\n",
    "login_button = driver.find_element(By.CSS_SELECTOR, \"button[type='submit']\")\n",
    "login_button.click()\n",
    "\n",
    "wait.until(EC.url_contains(\"http://127.0.0.1:8000/profile/\"))\n",
    "print(\"✅ Logged in and profile page loaded\")\n",
    "time.sleep(2)\n",
    "\n",
    "# --- Step 2: Click Edit Profile ---\n",
    "edit_button = wait.until(EC.element_to_be_clickable((By.LINK_TEXT, \"Edit Profile\")))\n",
    "edit_button.click()\n",
    "print(\"✅ Clicked Edit Profile button\")\n",
    "wait.until(EC.url_contains(\"/profile/edit/\"))\n",
    "time.sleep(2)\n",
    "\n",
    "# --- Step 3: Fill Profile Form ---\n",
    "full_name = wait.until(EC.visibility_of_element_located((By.NAME, \"full_name\")))\n",
    "phone = driver.find_element(By.NAME, \"phone\")\n",
    "address = driver.find_element(By.NAME, \"address\")\n",
    "bio = driver.find_element(By.NAME, \"bio\")\n",
    "bank_account = driver.find_element(By.NAME, \"bank_account\")\n",
    "kyc_type = Select(driver.find_element(By.NAME, \"kyc_type\"))\n",
    "\n",
    "# Optional: file upload\n",
    "avatar = driver.find_element(By.NAME, \"avatar\")\n",
    "kyc_document = driver.find_element(By.NAME, \"kyc_document\")\n",
    "\n",
    "# Fill in the fields\n",
    "full_name.clear()\n",
    "full_name.send_keys(\"Business Owner Updated\")\n",
    "phone.clear()\n",
    "phone.send_keys(\"01234567890\")\n",
    "address.clear()\n",
    "address.send_keys(\"123 Business St\")\n",
    "bio.clear()\n",
    "bio.send_keys(\"This is my updated bio for testing.\")\n",
    "bank_account.clear()\n",
    "bank_account.send_keys(\"1234567890\")\n",
    "kyc_type.select_by_index(2)  # choose 2nd option, adjust as needed\n",
    "\n",
    "\n",
    "# Optional file uploads (use absolute paths)\n",
    "# avatar.send_keys(os.path.abspath(\"path_to_avatar.jpg\"))\n",
    "# kyc_document.send_keys(os.path.abspath(\"path_to_kyc_doc.pdf\"))\n",
    "\n",
    "# --- Step 4: Submit ---\n",
    "save_button = driver.find_element(By.CSS_SELECTOR, \"button.btn-success\")\n",
    "save_button.click()\n",
    "print(\"✅ Profile form submitted\")\n",
    "\n",
    "# Wait to observe\n",
    "time.sleep(3)\n",
    "driver.quit()\n"
   ]
  }
 ],
 "metadata": {
  "kernelspec": {
   "display_name": "Python 3",
   "language": "python",
   "name": "python3"
  },
  "language_info": {
   "codemirror_mode": {
    "name": "ipython",
    "version": 3
   },
   "file_extension": ".py",
   "mimetype": "text/x-python",
   "name": "python",
   "nbconvert_exporter": "python",
   "pygments_lexer": "ipython3",
   "version": "3.13.2"
  }
 },
 "nbformat": 4,
 "nbformat_minor": 5
}
