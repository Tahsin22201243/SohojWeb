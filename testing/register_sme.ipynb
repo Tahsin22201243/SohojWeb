{
 "cells": [
  {
   "cell_type": "code",
   "execution_count": 4,
   "id": "91558ae1",
   "metadata": {},
   "outputs": [
    {
     "name": "stdout",
     "output_type": "stream",
     "text": [
      "✅ Scrolled through the page\n",
      "✅ Selected role: Business Owner\n",
      "✅ Filled in registration details\n",
      "✅ Clicked Register button\n"
     ]
    },
    {
     "ename": "InvalidSessionIdException",
     "evalue": "Message: invalid session id: session deleted as the browser has closed the connection\nfrom disconnected: not connected to DevTools\n  (Session info: chrome=141.0.7390.108); For documentation on this error, please visit: https://www.selenium.dev/documentation/webdriver/troubleshooting/errors#invalidsessionidexception\nStacktrace:\n\tGetHandleVerifier [0x0x7ff6c019e9e5+80021]\n\tGetHandleVerifier [0x0x7ff6c019ea40+80112]\n\t(No symbol) [0x0x7ff6bff2060f]\n\t(No symbol) [0x0x7ff6bff0c145]\n\t(No symbol) [0x0x7ff6bff3177a]\n\t(No symbol) [0x0x7ff6bffa8b06]\n\t(No symbol) [0x0x7ff6bffc8fa2]\n\t(No symbol) [0x0x7ff6bffa1003]\n\t(No symbol) [0x0x7ff6bff695d1]\n\t(No symbol) [0x0x7ff6bff6a3f3]\n\tGetHandleVerifier [0x0x7ff6c045dd8d+2960445]\n\tGetHandleVerifier [0x0x7ff6c045804a+2936570]\n\tGetHandleVerifier [0x0x7ff6c0478a87+3070263]\n\tGetHandleVerifier [0x0x7ff6c01b84ce+185214]\n\tGetHandleVerifier [0x0x7ff6c01bff1f+216527]\n\tGetHandleVerifier [0x0x7ff6c01a7c24+117460]\n\tGetHandleVerifier [0x0x7ff6c01a7ddf+117903]\n\tGetHandleVerifier [0x0x7ff6c018dcb8+11112]\n\tBaseThreadInitThunk [0x0x7ffe55bde8d7+23]\n\tRtlUserThreadStart [0x0x7ffe57328d9c+44]\n",
     "output_type": "error",
     "traceback": [
      "\u001b[31m---------------------------------------------------------------------------\u001b[39m",
      "\u001b[31mInvalidSessionIdException\u001b[39m                 Traceback (most recent call last)",
      "\u001b[36mCell\u001b[39m\u001b[36m \u001b[39m\u001b[32mIn[4]\u001b[39m\u001b[32m, line 47\u001b[39m\n\u001b[32m     44\u001b[39m \u001b[38;5;28mprint\u001b[39m(\u001b[33m\"\u001b[39m\u001b[33m✅ Clicked Register button\u001b[39m\u001b[33m\"\u001b[39m)\n\u001b[32m     46\u001b[39m \u001b[38;5;66;03m# ✅ Wait for redirect to profile (adjust the URL pattern)\u001b[39;00m\n\u001b[32m---> \u001b[39m\u001b[32m47\u001b[39m \u001b[43mwait\u001b[49m\u001b[43m.\u001b[49m\u001b[43muntil\u001b[49m\u001b[43m(\u001b[49m\u001b[43mEC\u001b[49m\u001b[43m.\u001b[49m\u001b[43murl_contains\u001b[49m\u001b[43m(\u001b[49m\u001b[33;43m\"\u001b[39;49m\u001b[33;43m/profile/\u001b[39;49m\u001b[33;43m\"\u001b[39;49m\u001b[43m)\u001b[49m\u001b[43m)\u001b[49m\n\u001b[32m     48\u001b[39m \u001b[38;5;28mprint\u001b[39m(\u001b[33m\"\u001b[39m\u001b[33m✅ Registration complete, profile page loaded\u001b[39m\u001b[33m\"\u001b[39m)\n\u001b[32m     50\u001b[39m time.sleep(\u001b[32m3\u001b[39m)\n",
      "\u001b[36mFile \u001b[39m\u001b[32mc:\\Users\\Asus\\AppData\\Local\\Programs\\Python\\Python313\\Lib\\site-packages\\selenium\\webdriver\\support\\wait.py:129\u001b[39m, in \u001b[36mWebDriverWait.until\u001b[39m\u001b[34m(self, method, message)\u001b[39m\n\u001b[32m    127\u001b[39m \u001b[38;5;28;01mwhile\u001b[39;00m \u001b[38;5;28;01mTrue\u001b[39;00m:\n\u001b[32m    128\u001b[39m     \u001b[38;5;28;01mtry\u001b[39;00m:\n\u001b[32m--> \u001b[39m\u001b[32m129\u001b[39m         value = \u001b[43mmethod\u001b[49m\u001b[43m(\u001b[49m\u001b[38;5;28;43mself\u001b[39;49m\u001b[43m.\u001b[49m\u001b[43m_driver\u001b[49m\u001b[43m)\u001b[49m\n\u001b[32m    130\u001b[39m         \u001b[38;5;28;01mif\u001b[39;00m value:\n\u001b[32m    131\u001b[39m             \u001b[38;5;28;01mreturn\u001b[39;00m value\n",
      "\u001b[36mFile \u001b[39m\u001b[32mc:\\Users\\Asus\\AppData\\Local\\Programs\\Python\\Python313\\Lib\\site-packages\\selenium\\webdriver\\support\\expected_conditions.py:124\u001b[39m, in \u001b[36murl_contains.<locals>._predicate\u001b[39m\u001b[34m(driver)\u001b[39m\n\u001b[32m    123\u001b[39m \u001b[38;5;28;01mdef\u001b[39;00m\u001b[38;5;250m \u001b[39m\u001b[34m_predicate\u001b[39m(driver: WebDriver):\n\u001b[32m--> \u001b[39m\u001b[32m124\u001b[39m     \u001b[38;5;28;01mreturn\u001b[39;00m url \u001b[38;5;129;01min\u001b[39;00m \u001b[43mdriver\u001b[49m\u001b[43m.\u001b[49m\u001b[43mcurrent_url\u001b[49m\n",
      "\u001b[36mFile \u001b[39m\u001b[32mc:\\Users\\Asus\\AppData\\Local\\Programs\\Python\\Python313\\Lib\\site-packages\\selenium\\webdriver\\remote\\webdriver.py:587\u001b[39m, in \u001b[36mWebDriver.current_url\u001b[39m\u001b[34m(self)\u001b[39m\n\u001b[32m    579\u001b[39m \u001b[38;5;129m@property\u001b[39m\n\u001b[32m    580\u001b[39m \u001b[38;5;28;01mdef\u001b[39;00m\u001b[38;5;250m \u001b[39m\u001b[34mcurrent_url\u001b[39m(\u001b[38;5;28mself\u001b[39m) -> \u001b[38;5;28mstr\u001b[39m:\n\u001b[32m    581\u001b[39m \u001b[38;5;250m    \u001b[39m\u001b[33;03m\"\"\"Gets the URL of the current page.\u001b[39;00m\n\u001b[32m    582\u001b[39m \n\u001b[32m    583\u001b[39m \u001b[33;03m    Example:\u001b[39;00m\n\u001b[32m    584\u001b[39m \u001b[33;03m    --------\u001b[39;00m\n\u001b[32m    585\u001b[39m \u001b[33;03m    >>> print(driver.current_url)\u001b[39;00m\n\u001b[32m    586\u001b[39m \u001b[33;03m    \"\"\"\u001b[39;00m\n\u001b[32m--> \u001b[39m\u001b[32m587\u001b[39m     \u001b[38;5;28;01mreturn\u001b[39;00m \u001b[38;5;28;43mself\u001b[39;49m\u001b[43m.\u001b[49m\u001b[43mexecute\u001b[49m\u001b[43m(\u001b[49m\u001b[43mCommand\u001b[49m\u001b[43m.\u001b[49m\u001b[43mGET_CURRENT_URL\u001b[49m\u001b[43m)\u001b[49m[\u001b[33m\"\u001b[39m\u001b[33mvalue\u001b[39m\u001b[33m\"\u001b[39m]\n",
      "\u001b[36mFile \u001b[39m\u001b[32mc:\\Users\\Asus\\AppData\\Local\\Programs\\Python\\Python313\\Lib\\site-packages\\selenium\\webdriver\\remote\\webdriver.py:458\u001b[39m, in \u001b[36mWebDriver.execute\u001b[39m\u001b[34m(self, driver_command, params)\u001b[39m\n\u001b[32m    455\u001b[39m response = cast(RemoteConnection, \u001b[38;5;28mself\u001b[39m.command_executor).execute(driver_command, params)\n\u001b[32m    457\u001b[39m \u001b[38;5;28;01mif\u001b[39;00m response:\n\u001b[32m--> \u001b[39m\u001b[32m458\u001b[39m     \u001b[38;5;28;43mself\u001b[39;49m\u001b[43m.\u001b[49m\u001b[43merror_handler\u001b[49m\u001b[43m.\u001b[49m\u001b[43mcheck_response\u001b[49m\u001b[43m(\u001b[49m\u001b[43mresponse\u001b[49m\u001b[43m)\u001b[49m\n\u001b[32m    459\u001b[39m     response[\u001b[33m\"\u001b[39m\u001b[33mvalue\u001b[39m\u001b[33m\"\u001b[39m] = \u001b[38;5;28mself\u001b[39m._unwrap_value(response.get(\u001b[33m\"\u001b[39m\u001b[33mvalue\u001b[39m\u001b[33m\"\u001b[39m, \u001b[38;5;28;01mNone\u001b[39;00m))\n\u001b[32m    460\u001b[39m     \u001b[38;5;28;01mreturn\u001b[39;00m response\n",
      "\u001b[36mFile \u001b[39m\u001b[32mc:\\Users\\Asus\\AppData\\Local\\Programs\\Python\\Python313\\Lib\\site-packages\\selenium\\webdriver\\remote\\errorhandler.py:232\u001b[39m, in \u001b[36mErrorHandler.check_response\u001b[39m\u001b[34m(self, response)\u001b[39m\n\u001b[32m    230\u001b[39m         alert_text = value[\u001b[33m\"\u001b[39m\u001b[33malert\u001b[39m\u001b[33m\"\u001b[39m].get(\u001b[33m\"\u001b[39m\u001b[33mtext\u001b[39m\u001b[33m\"\u001b[39m)\n\u001b[32m    231\u001b[39m     \u001b[38;5;28;01mraise\u001b[39;00m exception_class(message, screen, stacktrace, alert_text)  \u001b[38;5;66;03m# type: ignore[call-arg]  # mypy is not smart enough here\u001b[39;00m\n\u001b[32m--> \u001b[39m\u001b[32m232\u001b[39m \u001b[38;5;28;01mraise\u001b[39;00m exception_class(message, screen, stacktrace)\n",
      "\u001b[31mInvalidSessionIdException\u001b[39m: Message: invalid session id: session deleted as the browser has closed the connection\nfrom disconnected: not connected to DevTools\n  (Session info: chrome=141.0.7390.108); For documentation on this error, please visit: https://www.selenium.dev/documentation/webdriver/troubleshooting/errors#invalidsessionidexception\nStacktrace:\n\tGetHandleVerifier [0x0x7ff6c019e9e5+80021]\n\tGetHandleVerifier [0x0x7ff6c019ea40+80112]\n\t(No symbol) [0x0x7ff6bff2060f]\n\t(No symbol) [0x0x7ff6bff0c145]\n\t(No symbol) [0x0x7ff6bff3177a]\n\t(No symbol) [0x0x7ff6bffa8b06]\n\t(No symbol) [0x0x7ff6bffc8fa2]\n\t(No symbol) [0x0x7ff6bffa1003]\n\t(No symbol) [0x0x7ff6bff695d1]\n\t(No symbol) [0x0x7ff6bff6a3f3]\n\tGetHandleVerifier [0x0x7ff6c045dd8d+2960445]\n\tGetHandleVerifier [0x0x7ff6c045804a+2936570]\n\tGetHandleVerifier [0x0x7ff6c0478a87+3070263]\n\tGetHandleVerifier [0x0x7ff6c01b84ce+185214]\n\tGetHandleVerifier [0x0x7ff6c01bff1f+216527]\n\tGetHandleVerifier [0x0x7ff6c01a7c24+117460]\n\tGetHandleVerifier [0x0x7ff6c01a7ddf+117903]\n\tGetHandleVerifier [0x0x7ff6c018dcb8+11112]\n\tBaseThreadInitThunk [0x0x7ffe55bde8d7+23]\n\tRtlUserThreadStart [0x0x7ffe57328d9c+44]\n"
     ]
    }
   ],
   "source": [
    "from selenium import webdriver\n",
    "from selenium.webdriver.common.by import By\n",
    "from selenium.webdriver.support.ui import WebDriverWait\n",
    "from selenium.webdriver.support import expected_conditions as EC\n",
    "import time\n",
    "\n",
    "# ✅ Setup\n",
    "driver = webdriver.Chrome()\n",
    "driver.maximize_window()\n",
    "driver.get(\"http://127.0.0.1:8000/register/\")  # change if needed\n",
    "\n",
    "wait = WebDriverWait(driver, 15)\n",
    "\n",
    "# ✅ Scroll down slowly\n",
    "driver.execute_script(\"window.scrollTo(0, document.body.scrollHeight / 2);\")\n",
    "time.sleep(1)\n",
    "driver.execute_script(\"window.scrollTo(0, document.body.scrollHeight);\")\n",
    "print(\"✅ Scrolled through the page\")\n",
    "\n",
    "# ✅ Select Business Owner role\n",
    "role_business = wait.until(EC.element_to_be_clickable((By.ID, \"roleBusiness\")))\n",
    "driver.execute_script(\"arguments[0].scrollIntoView(true);\", role_business)\n",
    "time.sleep(0.5)\n",
    "driver.execute_script(\"arguments[0].click();\", role_business)\n",
    "print(\"✅ Selected role: Business Owner\")\n",
    "\n",
    "# ✅ Fill in registration form\n",
    "username = wait.until(EC.visibility_of_element_located((By.NAME, \"username\")))\n",
    "email = driver.find_element(By.NAME, \"email\")\n",
    "password = driver.find_element(By.NAME, \"password\")\n",
    "confirm = driver.find_element(By.NAME, \"confirm\")\n",
    "\n",
    "username.send_keys(\"business_user1234\")\n",
    "email.send_keys(\"business_user1234@example.com\")\n",
    "password.send_keys(\"TestPassword123\")\n",
    "confirm.send_keys(\"TestPassword123\")\n",
    "print(\"✅ Filled in registration details\")\n",
    "\n",
    "# ✅ Click Register\n",
    "submit_btn = driver.find_element(By.ID, \"submitBtn\")\n",
    "driver.execute_script(\"arguments[0].scrollIntoView(true);\", submit_btn)\n",
    "time.sleep(0.5)\n",
    "driver.execute_script(\"arguments[0].click();\", submit_btn)\n",
    "print(\"✅ Clicked Register button\")\n",
    "\n",
    "# ✅ Wait for redirect to profile (adjust the URL pattern)\n",
    "wait.until(EC.url_contains(\"/profile/\"))\n",
    "print(\"✅ Registration complete, profile page loaded\")\n",
    "\n",
    "time.sleep(3)\n",
    "driver.quit()\n"
   ]
  }
 ],
 "metadata": {
  "kernelspec": {
   "display_name": "Python 3",
   "language": "python",
   "name": "python3"
  },
  "language_info": {
   "codemirror_mode": {
    "name": "ipython",
    "version": 3
   },
   "file_extension": ".py",
   "mimetype": "text/x-python",
   "name": "python",
   "nbconvert_exporter": "python",
   "pygments_lexer": "ipython3",
   "version": "3.13.2"
  }
 },
 "nbformat": 4,
 "nbformat_minor": 5
}
