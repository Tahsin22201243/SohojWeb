{
 "cells": [
  {
   "cell_type": "code",
   "execution_count": 1,
   "id": "a0101ea7",
   "metadata": {},
   "outputs": [
    {
     "name": "stdout",
     "output_type": "stream",
     "text": [
      "✅ Opened About page successfully.\n",
      "Page height: 1859px\n",
      "✅ Finished scrolling down the About page.\n",
      "✅ Scrolled back to top.\n"
     ]
    }
   ],
   "source": [
    "from selenium import webdriver\n",
    "from selenium.webdriver.chrome.service import Service\n",
    "from selenium.webdriver.chrome.options import Options\n",
    "from selenium.webdriver.support.ui import WebDriverWait\n",
    "from webdriver_manager.chrome import ChromeDriverManager\n",
    "import time\n",
    "\n",
    "# --- SETUP ---\n",
    "chrome_options = Options()\n",
    "chrome_options.add_argument(\"--start-maximized\")  # open window maximized\n",
    "# chrome_options.add_argument(\"--headless\")  # uncomment if you want no browser window\n",
    "\n",
    "driver = webdriver.Chrome(\n",
    "    service=Service(ChromeDriverManager().install()), options=chrome_options\n",
    ")\n",
    "wait = WebDriverWait(driver, 15)\n",
    "\n",
    "try:\n",
    "    # --- STEP 1: Open About Page ---\n",
    "    driver.get(\"http://127.0.0.1:8000/about/\")\n",
    "    time.sleep(2)\n",
    "    print(\"✅ Opened About page successfully.\")\n",
    "\n",
    "    # --- STEP 2: Scroll Down Slowly ---\n",
    "    scroll_pause_time = 1  # seconds between scrolls\n",
    "    scroll_height = driver.execute_script(\"return document.body.scrollHeight\")\n",
    "    print(f\"Page height: {scroll_height}px\")\n",
    "\n",
    "    for i in range(0, scroll_height, 300):  # scroll by 300px each time\n",
    "        driver.execute_script(f\"window.scrollTo(0, {i});\")\n",
    "        time.sleep(scroll_pause_time)\n",
    "\n",
    "    print(\"✅ Finished scrolling down the About page.\")\n",
    "\n",
    "    # --- STEP 3: Scroll Back Up ---\n",
    "    driver.execute_script(\"window.scrollTo(0, 0);\")\n",
    "    print(\"✅ Scrolled back to top.\")\n",
    "\n",
    "    time.sleep(2)\n",
    "\n",
    "finally:\n",
    "    driver.quit()\n"
   ]
  },
  {
   "cell_type": "code",
   "execution_count": null,
   "id": "ddc53c8a",
   "metadata": {},
   "outputs": [],
   "source": [
    "pip install selenium"
   ]
  }
 ],
 "metadata": {
  "kernelspec": {
   "display_name": "Python 3",
   "language": "python",
   "name": "python3"
  },
  "language_info": {
   "codemirror_mode": {
    "name": "ipython",
    "version": 3
   },
   "file_extension": ".py",
   "mimetype": "text/x-python",
   "name": "python",
   "nbconvert_exporter": "python",
   "pygments_lexer": "ipython3",
   "version": "3.13.2"
  }
 },
 "nbformat": 4,
 "nbformat_minor": 5
}
