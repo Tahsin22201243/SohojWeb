{
 "cells": [
  {
   "cell_type": "code",
   "execution_count": 3,
   "id": "1bdb617f",
   "metadata": {},
   "outputs": [
    {
     "name": "stdout",
     "output_type": "stream",
     "text": [
      "✅ Logged in as Investor\n",
      "✅ Opened campaign investment page\n",
      "✅ Entered investment amount: ৳5000\n",
      "✅ Clicked 'Invest Now' button\n",
      "⚠️ No success message found. Check if investment was submitted or campaign is closed.\n"
     ]
    }
   ],
   "source": [
    "from selenium import webdriver\n",
    "from selenium.webdriver.common.by import By\n",
    "from selenium.webdriver.support.ui import WebDriverWait\n",
    "from selenium.webdriver.support import expected_conditions as EC\n",
    "import time\n",
    "\n",
    "# --- Step 1: Setup ---\n",
    "driver = webdriver.Chrome()\n",
    "driver.maximize_window()\n",
    "wait = WebDriverWait(driver, 15)\n",
    "\n",
    "# --- Step 2: Log in as investor ---\n",
    "driver.get(\"http://127.0.0.1:8000/login/\")  # adjust if your URL differs\n",
    "\n",
    "# Fill login form\n",
    "wait.until(EC.visibility_of_element_located((By.ID, \"username\"))).send_keys(\"investor_user1234\")\n",
    "driver.find_element(By.ID, \"password\").send_keys(\"TestPassword123\")\n",
    "driver.find_element(By.CSS_SELECTOR, \"button[type='submit']\").click()\n",
    "print(\"✅ Logged in as Investor\")\n",
    "time.sleep(2)\n",
    "# --- Step 3: Go to campaign invest page ---\n",
    "# Example: http://127.0.0.1:8000/campaign/1/invest/\n",
    "driver.get(\"http://127.0.0.1:8000/campaign/11/invest/\")\n",
    "print(\"✅ Opened campaign investment page\")\n",
    "time.sleep(2)\n",
    "\n",
    "# --- Step 4: Wait for form to load ---\n",
    "amount_input = wait.until(EC.visibility_of_element_located((By.ID, \"amount\")))\n",
    "\n",
    "# --- Step 5: Fill investment amount ---\n",
    "amount_value = \"5000\"  # you can adjust this as needed\n",
    "amount_input.clear()\n",
    "amount_input.send_keys(amount_value)\n",
    "print(f\"✅ Entered investment amount: ৳{amount_value}\")\n",
    "time.sleep(2)\n",
    "# --- Step 6: Submit the form ---\n",
    "invest_button = wait.until(EC.element_to_be_clickable((By.XPATH, \"//button[contains(text(), 'Invest Now')]\")))\n",
    "invest_button.click()\n",
    "print(\"✅ Clicked 'Invest Now' button\")\n",
    "time.sleep(2)\n",
    "# --- Step 7: Wait for confirmation ---\n",
    "# Wait for success alert or page change\n",
    "try:\n",
    "    success_message = wait.until(EC.visibility_of_element_located(\n",
    "        (By.XPATH, \"//div[contains(@class,'alert-success')]\")\n",
    "    ))\n",
    "    print(\"🎉 Investment submitted successfully!\")\n",
    "except:\n",
    "    print(\"⚠️ No success message found. Check if investment was submitted or campaign is closed.\")\n",
    "\n",
    "time.sleep(2)\n",
    "driver.quit()\n"
   ]
  }
 ],
 "metadata": {
  "kernelspec": {
   "display_name": "Python 3",
   "language": "python",
   "name": "python3"
  },
  "language_info": {
   "codemirror_mode": {
    "name": "ipython",
    "version": 3
   },
   "file_extension": ".py",
   "mimetype": "text/x-python",
   "name": "python",
   "nbconvert_exporter": "python",
   "pygments_lexer": "ipython3",
   "version": "3.13.2"
  }
 },
 "nbformat": 4,
 "nbformat_minor": 5
}
