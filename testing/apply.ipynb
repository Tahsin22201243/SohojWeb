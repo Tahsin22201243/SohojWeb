{
 "cells": [
  {
   "cell_type": "code",
   "execution_count": 1,
   "id": "0a47408a",
   "metadata": {},
   "outputs": [
    {
     "name": "stdout",
     "output_type": "stream",
     "text": [
      "✅ Apply for Investment page loaded\n"
     ]
    },
    {
     "ename": "NoSuchElementException",
     "evalue": "Message: no such element: Unable to locate element: {\"method\":\"css selector\",\"selector\":\"[name=\"name\"]\"}\n  (Session info: chrome=141.0.7390.108); For documentation on this error, please visit: https://www.selenium.dev/documentation/webdriver/troubleshooting/errors#nosuchelementexception\nStacktrace:\n\tGetHandleVerifier [0x0x7ff62502e9e5+80021]\n\tGetHandleVerifier [0x0x7ff62502ea40+80112]\n\t(No symbol) [0x0x7ff624db060f]\n\t(No symbol) [0x0x7ff624e08854]\n\t(No symbol) [0x0x7ff624e08b1c]\n\t(No symbol) [0x0x7ff624e5c927]\n\t(No symbol) [0x0x7ff624e3126f]\n\t(No symbol) [0x0x7ff624e5968a]\n\t(No symbol) [0x0x7ff624e31003]\n\t(No symbol) [0x0x7ff624df95d1]\n\t(No symbol) [0x0x7ff624dfa3f3]\n\tGetHandleVerifier [0x0x7ff6252edd8d+2960445]\n\tGetHandleVerifier [0x0x7ff6252e804a+2936570]\n\tGetHandleVerifier [0x0x7ff625308a87+3070263]\n\tGetHandleVerifier [0x0x7ff6250484ce+185214]\n\tGetHandleVerifier [0x0x7ff62504ff1f+216527]\n\tGetHandleVerifier [0x0x7ff625037c24+117460]\n\tGetHandleVerifier [0x0x7ff625037ddf+117903]\n\tGetHandleVerifier [0x0x7ff62501dcb8+11112]\n\tBaseThreadInitThunk [0x0x7ffc9c50e8d7+23]\n\tRtlUserThreadStart [0x0x7ffc9d508d9c+44]\n",
     "output_type": "error",
     "traceback": [
      "\u001b[31m---------------------------------------------------------------------------\u001b[39m",
      "\u001b[31mNoSuchElementException\u001b[39m                    Traceback (most recent call last)",
      "\u001b[36mCell\u001b[39m\u001b[36m \u001b[39m\u001b[32mIn[1]\u001b[39m\u001b[32m, line 32\u001b[39m\n\u001b[32m     29\u001b[39m time.sleep(\u001b[32m1\u001b[39m)\n\u001b[32m     31\u001b[39m \u001b[38;5;66;03m# --- Step 3: Fill in the form ---\u001b[39;00m\n\u001b[32m---> \u001b[39m\u001b[32m32\u001b[39m business_name = \u001b[43mdriver\u001b[49m\u001b[43m.\u001b[49m\u001b[43mfind_element\u001b[49m\u001b[43m(\u001b[49m\u001b[43mBy\u001b[49m\u001b[43m.\u001b[49m\u001b[43mNAME\u001b[49m\u001b[43m,\u001b[49m\u001b[43m \u001b[49m\u001b[33;43m\"\u001b[39;49m\u001b[33;43mname\u001b[39;49m\u001b[33;43m\"\u001b[39;49m\u001b[43m)\u001b[49m\n\u001b[32m     33\u001b[39m description = driver.find_element(By.NAME, \u001b[33m\"\u001b[39m\u001b[33mdescription\u001b[39m\u001b[33m\"\u001b[39m)\n\u001b[32m     34\u001b[39m location = driver.find_element(By.NAME, \u001b[33m\"\u001b[39m\u001b[33mlocation\u001b[39m\u001b[33m\"\u001b[39m)\n",
      "\u001b[36mFile \u001b[39m\u001b[32mc:\\Users\\Asus\\AppData\\Local\\Programs\\Python\\Python313\\Lib\\site-packages\\selenium\\webdriver\\remote\\webdriver.py:926\u001b[39m, in \u001b[36mWebDriver.find_element\u001b[39m\u001b[34m(self, by, value)\u001b[39m\n\u001b[32m    923\u001b[39m         \u001b[38;5;28;01mraise\u001b[39;00m NoSuchElementException(\u001b[33mf\u001b[39m\u001b[33m\"\u001b[39m\u001b[33mCannot locate relative element with: \u001b[39m\u001b[38;5;132;01m{\u001b[39;00mby.root\u001b[38;5;132;01m}\u001b[39;00m\u001b[33m\"\u001b[39m)\n\u001b[32m    924\u001b[39m     \u001b[38;5;28;01mreturn\u001b[39;00m elements[\u001b[32m0\u001b[39m]\n\u001b[32m--> \u001b[39m\u001b[32m926\u001b[39m \u001b[38;5;28;01mreturn\u001b[39;00m \u001b[38;5;28;43mself\u001b[39;49m\u001b[43m.\u001b[49m\u001b[43mexecute\u001b[49m\u001b[43m(\u001b[49m\u001b[43mCommand\u001b[49m\u001b[43m.\u001b[49m\u001b[43mFIND_ELEMENT\u001b[49m\u001b[43m,\u001b[49m\u001b[43m \u001b[49m\u001b[43m{\u001b[49m\u001b[33;43m\"\u001b[39;49m\u001b[33;43musing\u001b[39;49m\u001b[33;43m\"\u001b[39;49m\u001b[43m:\u001b[49m\u001b[43m \u001b[49m\u001b[43mby\u001b[49m\u001b[43m,\u001b[49m\u001b[43m \u001b[49m\u001b[33;43m\"\u001b[39;49m\u001b[33;43mvalue\u001b[39;49m\u001b[33;43m\"\u001b[39;49m\u001b[43m:\u001b[49m\u001b[43m \u001b[49m\u001b[43mvalue\u001b[49m\u001b[43m}\u001b[49m\u001b[43m)\u001b[49m[\u001b[33m\"\u001b[39m\u001b[33mvalue\u001b[39m\u001b[33m\"\u001b[39m]\n",
      "\u001b[36mFile \u001b[39m\u001b[32mc:\\Users\\Asus\\AppData\\Local\\Programs\\Python\\Python313\\Lib\\site-packages\\selenium\\webdriver\\remote\\webdriver.py:458\u001b[39m, in \u001b[36mWebDriver.execute\u001b[39m\u001b[34m(self, driver_command, params)\u001b[39m\n\u001b[32m    455\u001b[39m response = cast(RemoteConnection, \u001b[38;5;28mself\u001b[39m.command_executor).execute(driver_command, params)\n\u001b[32m    457\u001b[39m \u001b[38;5;28;01mif\u001b[39;00m response:\n\u001b[32m--> \u001b[39m\u001b[32m458\u001b[39m     \u001b[38;5;28;43mself\u001b[39;49m\u001b[43m.\u001b[49m\u001b[43merror_handler\u001b[49m\u001b[43m.\u001b[49m\u001b[43mcheck_response\u001b[49m\u001b[43m(\u001b[49m\u001b[43mresponse\u001b[49m\u001b[43m)\u001b[49m\n\u001b[32m    459\u001b[39m     response[\u001b[33m\"\u001b[39m\u001b[33mvalue\u001b[39m\u001b[33m\"\u001b[39m] = \u001b[38;5;28mself\u001b[39m._unwrap_value(response.get(\u001b[33m\"\u001b[39m\u001b[33mvalue\u001b[39m\u001b[33m\"\u001b[39m, \u001b[38;5;28;01mNone\u001b[39;00m))\n\u001b[32m    460\u001b[39m     \u001b[38;5;28;01mreturn\u001b[39;00m response\n",
      "\u001b[36mFile \u001b[39m\u001b[32mc:\\Users\\Asus\\AppData\\Local\\Programs\\Python\\Python313\\Lib\\site-packages\\selenium\\webdriver\\remote\\errorhandler.py:232\u001b[39m, in \u001b[36mErrorHandler.check_response\u001b[39m\u001b[34m(self, response)\u001b[39m\n\u001b[32m    230\u001b[39m         alert_text = value[\u001b[33m\"\u001b[39m\u001b[33malert\u001b[39m\u001b[33m\"\u001b[39m].get(\u001b[33m\"\u001b[39m\u001b[33mtext\u001b[39m\u001b[33m\"\u001b[39m)\n\u001b[32m    231\u001b[39m     \u001b[38;5;28;01mraise\u001b[39;00m exception_class(message, screen, stacktrace, alert_text)  \u001b[38;5;66;03m# type: ignore[call-arg]  # mypy is not smart enough here\u001b[39;00m\n\u001b[32m--> \u001b[39m\u001b[32m232\u001b[39m \u001b[38;5;28;01mraise\u001b[39;00m exception_class(message, screen, stacktrace)\n",
      "\u001b[31mNoSuchElementException\u001b[39m: Message: no such element: Unable to locate element: {\"method\":\"css selector\",\"selector\":\"[name=\"name\"]\"}\n  (Session info: chrome=141.0.7390.108); For documentation on this error, please visit: https://www.selenium.dev/documentation/webdriver/troubleshooting/errors#nosuchelementexception\nStacktrace:\n\tGetHandleVerifier [0x0x7ff62502e9e5+80021]\n\tGetHandleVerifier [0x0x7ff62502ea40+80112]\n\t(No symbol) [0x0x7ff624db060f]\n\t(No symbol) [0x0x7ff624e08854]\n\t(No symbol) [0x0x7ff624e08b1c]\n\t(No symbol) [0x0x7ff624e5c927]\n\t(No symbol) [0x0x7ff624e3126f]\n\t(No symbol) [0x0x7ff624e5968a]\n\t(No symbol) [0x0x7ff624e31003]\n\t(No symbol) [0x0x7ff624df95d1]\n\t(No symbol) [0x0x7ff624dfa3f3]\n\tGetHandleVerifier [0x0x7ff6252edd8d+2960445]\n\tGetHandleVerifier [0x0x7ff6252e804a+2936570]\n\tGetHandleVerifier [0x0x7ff625308a87+3070263]\n\tGetHandleVerifier [0x0x7ff6250484ce+185214]\n\tGetHandleVerifier [0x0x7ff62504ff1f+216527]\n\tGetHandleVerifier [0x0x7ff625037c24+117460]\n\tGetHandleVerifier [0x0x7ff625037ddf+117903]\n\tGetHandleVerifier [0x0x7ff62501dcb8+11112]\n\tBaseThreadInitThunk [0x0x7ffc9c50e8d7+23]\n\tRtlUserThreadStart [0x0x7ffc9d508d9c+44]\n"
     ]
    }
   ],
   "source": [
    "from selenium import webdriver\n",
    "from selenium.webdriver.common.by import By\n",
    "from selenium.webdriver.support.ui import WebDriverWait\n",
    "from selenium.webdriver.support import expected_conditions as EC\n",
    "import time\n",
    "import os\n",
    "\n",
    "# --- Setup ---\n",
    "driver = webdriver.Chrome()\n",
    "driver.maximize_window()\n",
    "wait = WebDriverWait(driver, 15)\n",
    "\n",
    "# --- Step 1: Login as Business Owner ---\n",
    "driver.get(\"http://127.0.0.1:8000/login/\")\n",
    "\n",
    "username = wait.until(EC.visibility_of_element_located((By.NAME, \"username\")))\n",
    "password = driver.find_element(By.NAME, \"password\")\n",
    "\n",
    "username.send_keys(\"business_user1234\")  # Use registered business owner credentials\n",
    "password.send_keys(\"TestPassword123\")\n",
    "\n",
    "login_button = driver.find_element(By.CSS_SELECTOR, \"button[type='submit']\")\n",
    "login_button.click()\n",
    "\n",
    "# --- Step 2: Go to Apply for Investment page ---\n",
    "driver.get(\"http://127.0.0.1:8000/apply/\")  # Adjust URL as needed\n",
    "wait.until(EC.visibility_of_element_located((By.CSS_SELECTOR, \"h2.text-center\")))\n",
    "print(\"✅ Apply for Investment page loaded\")\n",
    "time.sleep(1)\n",
    "\n",
    "# --- Step 3: Fill in the form ---\n",
    "business_name = driver.find_element(By.NAME, \"name\")\n",
    "description = driver.find_element(By.NAME, \"description\")\n",
    "location = driver.find_element(By.NAME, \"location\")\n",
    "website = driver.find_element(By.NAME, \"website\")\n",
    "documents = driver.find_element(By.ID, \"id_documents\")\n",
    "terms_checkbox = driver.find_element(By.ID, \"id_terms\")\n",
    "\n",
    "business_name.clear()\n",
    "business_name.send_keys(\"My Business Test\")\n",
    "description.clear()\n",
    "description.send_keys(\"This is a test description for my business investment application.\")\n",
    "location.clear()\n",
    "location.send_keys(\"Dhaka, Bangladesh\")\n",
    "website.clear()\n",
    "website.send_keys(\"https://www.example.com\")\n",
    "\n",
    "# Optional: upload business documents (adjust file paths)\n",
    "# documents.send_keys(os.path.abspath(\"document1.pdf\") + \"\\n\" + os.path.abspath(\"document2.png\"))\n",
    "\n",
    "# Check the terms and conditions checkbox\n",
    "if not terms_checkbox.is_selected():\n",
    "    terms_checkbox.click()\n",
    "\n",
    "# --- Step 4: Submit the form ---\n",
    "submit_btn = driver.find_element(By.CSS_SELECTOR, \"button.btn-success\")\n",
    "driver.execute_script(\"arguments[0].scrollIntoView(true);\", submit_btn)\n",
    "time.sleep(0.5)\n",
    "submit_btn.click()\n",
    "print(\"✅ Submitted the investment application\")\n",
    "\n",
    "# --- Step 5: Wait for success confirmation ---\n",
    "wait.until(EC.visibility_of_element_located((By.CSS_SELECTOR, \"div.alert-success\")))\n",
    "print(\"✅ Application submitted successfully\")\n",
    "\n",
    "time.sleep(3)\n",
    "driver.quit()\n"
   ]
  }
 ],
 "metadata": {
  "kernelspec": {
   "display_name": "Python 3",
   "language": "python",
   "name": "python3"
  },
  "language_info": {
   "codemirror_mode": {
    "name": "ipython",
    "version": 3
   },
   "file_extension": ".py",
   "mimetype": "text/x-python",
   "name": "python",
   "nbconvert_exporter": "python",
   "pygments_lexer": "ipython3",
   "version": "3.13.2"
  }
 },
 "nbformat": 4,
 "nbformat_minor": 5
}
