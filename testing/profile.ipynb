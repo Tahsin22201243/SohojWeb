{
 "cells": [
  {
   "cell_type": "code",
   "execution_count": 5,
   "id": "6b8dd5e0",
   "metadata": {},
   "outputs": [
    {
     "name": "stdout",
     "output_type": "stream",
     "text": [
      "✅ Login submitted\n",
      "✅ Logged in, profile page loaded\n",
      "✅ Scrolled down profile page\n",
      "✅ Scrolled back up profile page\n",
      "✅ Clicked Edit Profile button\n"
     ]
    }
   ],
   "source": [
    "from selenium import webdriver\n",
    "from selenium.webdriver.common.by import By\n",
    "from selenium.webdriver.support.ui import WebDriverWait\n",
    "from selenium.webdriver.support import expected_conditions as EC\n",
    "import time\n",
    "\n",
    "# --- Setup ---\n",
    "driver = webdriver.Chrome()\n",
    "driver.maximize_window()\n",
    "wait = WebDriverWait(driver, 15)\n",
    "\n",
    "# --- Step 1: Open Login Page ---\n",
    "driver.get(\"http://127.0.0.1:8000/login/\")\n",
    "time.sleep(1)\n",
    "\n",
    "# --- Step 2: Fill Login Form ---\n",
    "username = wait.until(EC.visibility_of_element_located((By.NAME, \"username\")))\n",
    "password = driver.find_element(By.NAME, \"password\")\n",
    "\n",
    "username.send_keys(\"business_user1234\")  # use the username from registration\n",
    "password.send_keys(\"TestPassword123\")   # use the password from registration\n",
    "\n",
    "# --- Step 3: Click Login Button ---\n",
    "login_button = driver.find_element(By.CSS_SELECTOR, \"button[type='submit']\")\n",
    "login_button.click()\n",
    "print(\"✅ Login submitted\")\n",
    "\n",
    "# --- Step 4: Wait for Profile Page to Load ---\n",
    "wait.until(EC.url_contains(\"http://127.0.0.1:8000/profile/\"))\n",
    "print(\"✅ Logged in, profile page loaded\")\n",
    "time.sleep(2)\n",
    "\n",
    "# --- Step 5: Scroll Down Slowly ---\n",
    "driver.execute_script(\"window.scrollTo(0, document.body.scrollHeight/2);\")\n",
    "time.sleep(1)\n",
    "driver.execute_script(\"window.scrollTo(0, document.body.scrollHeight);\")\n",
    "print(\"✅ Scrolled down profile page\")\n",
    "time.sleep(1)\n",
    "\n",
    "# --- Step 6: Scroll Back Up ---\n",
    "driver.execute_script(\"window.scrollTo(0, 0);\")\n",
    "print(\"✅ Scrolled back up profile page\")\n",
    "time.sleep(1)\n",
    "\n",
    "# --- Step 7: Click \"Edit Profile\" Button ---\n",
    "edit_button = wait.until(EC.element_to_be_clickable((By.LINK_TEXT, \"Edit Profile\")))\n",
    "edit_button.click()\n",
    "print(\"✅ Clicked Edit Profile button\")\n",
    "\n",
    "# --- Wait a few seconds to observe ---\n",
    "time.sleep(3)\n",
    "\n",
    "# --- Quit driver ---\n",
    "driver.quit()\n"
   ]
  }
 ],
 "metadata": {
  "kernelspec": {
   "display_name": "Python 3",
   "language": "python",
   "name": "python3"
  },
  "language_info": {
   "codemirror_mode": {
    "name": "ipython",
    "version": 3
   },
   "file_extension": ".py",
   "mimetype": "text/x-python",
   "name": "python",
   "nbconvert_exporter": "python",
   "pygments_lexer": "ipython3",
   "version": "3.13.2"
  }
 },
 "nbformat": 4,
 "nbformat_minor": 5
}
