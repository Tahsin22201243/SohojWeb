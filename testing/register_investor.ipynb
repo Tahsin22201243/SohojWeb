{
 "cells": [
  {
   "cell_type": "code",
   "execution_count": 1,
   "id": "bee559bd",
   "metadata": {},
   "outputs": [
    {
     "name": "stdout",
     "output_type": "stream",
     "text": [
      "✅ Scrolled through the page\n",
      "✅ Selected role: Investor\n",
      "✅ Filled in registration details\n",
      "✅ Clicked Register button\n"
     ]
    }
   ],
   "source": [
    "from selenium import webdriver\n",
    "from selenium.webdriver.common.by import By\n",
    "from selenium.webdriver.support.ui import WebDriverWait\n",
    "from selenium.webdriver.support import expected_conditions as EC\n",
    "import time\n",
    "\n",
    "# ✅ Setup\n",
    "driver = webdriver.Chrome()\n",
    "driver.maximize_window()\n",
    "driver.get(\"http://127.0.0.1:8000/register/\")  # change to your local URL\n",
    "\n",
    "wait = WebDriverWait(driver, 15)\n",
    "\n",
    "# ✅ Scroll down slowly\n",
    "driver.execute_script(\"window.scrollTo(0, document.body.scrollHeight / 2);\")\n",
    "time.sleep(1)\n",
    "driver.execute_script(\"window.scrollTo(0, document.body.scrollHeight);\")\n",
    "print(\"✅ Scrolled through the page\")\n",
    "\n",
    "# ✅ Select Investor role\n",
    "role_investor = wait.until(EC.element_to_be_clickable((By.ID, \"roleInvestor\")))\n",
    "driver.execute_script(\"arguments[0].scrollIntoView(true);\", role_investor)\n",
    "time.sleep(0.5)\n",
    "driver.execute_script(\"arguments[0].click();\", role_investor)\n",
    "print(\"✅ Selected role: Investor\")\n",
    "\n",
    "# ✅ Fill in registration form\n",
    "username = wait.until(EC.visibility_of_element_located((By.NAME, \"username\")))\n",
    "email = driver.find_element(By.NAME, \"email\")\n",
    "password = driver.find_element(By.NAME, \"password\")\n",
    "confirm = driver.find_element(By.NAME, \"confirm\")\n",
    "\n",
    "username.send_keys(\"investor_user1234\")\n",
    "email.send_keys(\"investor_user1234@example.com\")\n",
    "password.send_keys(\"TestPassword123\")\n",
    "confirm.send_keys(\"TestPassword123\")\n",
    "print(\"✅ Filled in registration details\")\n",
    "\n",
    "# ✅ Click Register button\n",
    "submit_btn = driver.find_element(By.ID, \"submitBtn\")\n",
    "driver.execute_script(\"arguments[0].scrollIntoView(true);\", submit_btn)\n",
    "time.sleep(0.5)\n",
    "driver.execute_script(\"arguments[0].click();\", submit_btn)\n",
    "print(\"✅ Clicked Register button\")\n",
    "\n",
    "# ✅ Optional pause to visually confirm\n",
    "time.sleep(3)\n",
    "driver.quit()\n"
   ]
  }
 ],
 "metadata": {
  "kernelspec": {
   "display_name": "Python 3",
   "language": "python",
   "name": "python3"
  },
  "language_info": {
   "codemirror_mode": {
    "name": "ipython",
    "version": 3
   },
   "file_extension": ".py",
   "mimetype": "text/x-python",
   "name": "python",
   "nbconvert_exporter": "python",
   "pygments_lexer": "ipython3",
   "version": "3.13.2"
  }
 },
 "nbformat": 4,
 "nbformat_minor": 5
}
